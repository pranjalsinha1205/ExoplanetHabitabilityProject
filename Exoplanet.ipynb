{
 "cells": [
  {
   "cell_type": "code",
   "execution_count": 1,
   "id": "6358a12a",
   "metadata": {},
   "outputs": [],
   "source": [
    "import pandas as pd\n",
    "import numpy as np\n",
    "import matplotlib.pyplot as plt\n",
    "import seaborn as sns"
   ]
  },
  {
   "cell_type": "code",
   "execution_count": 2,
   "id": "ce7bb3e6",
   "metadata": {},
   "outputs": [
    {
     "data": {
      "text/html": [
       "<div>\n",
       "<style scoped>\n",
       "    .dataframe tbody tr th:only-of-type {\n",
       "        vertical-align: middle;\n",
       "    }\n",
       "\n",
       "    .dataframe tbody tr th {\n",
       "        vertical-align: top;\n",
       "    }\n",
       "\n",
       "    .dataframe thead th {\n",
       "        text-align: right;\n",
       "    }\n",
       "</style>\n",
       "<table border=\"1\" class=\"dataframe\">\n",
       "  <thead>\n",
       "    <tr style=\"text-align: right;\">\n",
       "      <th></th>\n",
       "      <th>pl_name</th>\n",
       "      <th>hostname</th>\n",
       "      <th>default_flag</th>\n",
       "      <th>sy_snum</th>\n",
       "      <th>sy_pnum</th>\n",
       "      <th>discoverymethod</th>\n",
       "      <th>disc_year</th>\n",
       "      <th>disc_facility</th>\n",
       "      <th>soltype</th>\n",
       "      <th>pl_controv_flag</th>\n",
       "      <th>...</th>\n",
       "      <th>sy_vmagerr2</th>\n",
       "      <th>sy_kmag</th>\n",
       "      <th>sy_kmagerr1</th>\n",
       "      <th>sy_kmagerr2</th>\n",
       "      <th>sy_gaiamag</th>\n",
       "      <th>sy_gaiamagerr1</th>\n",
       "      <th>sy_gaiamagerr2</th>\n",
       "      <th>rowupdate</th>\n",
       "      <th>pl_pubdate</th>\n",
       "      <th>releasedate</th>\n",
       "    </tr>\n",
       "  </thead>\n",
       "  <tbody>\n",
       "    <tr>\n",
       "      <th>0</th>\n",
       "      <td>11 Com b</td>\n",
       "      <td>11 Com</td>\n",
       "      <td>0</td>\n",
       "      <td>2</td>\n",
       "      <td>1</td>\n",
       "      <td>Radial Velocity</td>\n",
       "      <td>2007</td>\n",
       "      <td>Xinglong Station</td>\n",
       "      <td>Published Confirmed</td>\n",
       "      <td>0</td>\n",
       "      <td>...</td>\n",
       "      <td>-0.023</td>\n",
       "      <td>2.282</td>\n",
       "      <td>0.346</td>\n",
       "      <td>-0.346</td>\n",
       "      <td>4.44038</td>\n",
       "      <td>0.003848</td>\n",
       "      <td>-0.003848</td>\n",
       "      <td>5/14/2014</td>\n",
       "      <td>2008-01</td>\n",
       "      <td>5/14/2014</td>\n",
       "    </tr>\n",
       "    <tr>\n",
       "      <th>1</th>\n",
       "      <td>11 Com b</td>\n",
       "      <td>11 Com</td>\n",
       "      <td>0</td>\n",
       "      <td>2</td>\n",
       "      <td>1</td>\n",
       "      <td>Radial Velocity</td>\n",
       "      <td>2007</td>\n",
       "      <td>Xinglong Station</td>\n",
       "      <td>Published Confirmed</td>\n",
       "      <td>0</td>\n",
       "      <td>...</td>\n",
       "      <td>-0.023</td>\n",
       "      <td>2.282</td>\n",
       "      <td>0.346</td>\n",
       "      <td>-0.346</td>\n",
       "      <td>4.44038</td>\n",
       "      <td>0.003848</td>\n",
       "      <td>-0.003848</td>\n",
       "      <td>7/23/2014</td>\n",
       "      <td>2011-08</td>\n",
       "      <td>7/23/2014</td>\n",
       "    </tr>\n",
       "    <tr>\n",
       "      <th>2</th>\n",
       "      <td>11 Com b</td>\n",
       "      <td>11 Com</td>\n",
       "      <td>1</td>\n",
       "      <td>2</td>\n",
       "      <td>1</td>\n",
       "      <td>Radial Velocity</td>\n",
       "      <td>2007</td>\n",
       "      <td>Xinglong Station</td>\n",
       "      <td>Published Confirmed</td>\n",
       "      <td>0</td>\n",
       "      <td>...</td>\n",
       "      <td>-0.023</td>\n",
       "      <td>2.282</td>\n",
       "      <td>0.346</td>\n",
       "      <td>-0.346</td>\n",
       "      <td>4.44038</td>\n",
       "      <td>0.003848</td>\n",
       "      <td>-0.003848</td>\n",
       "      <td>9/19/2023</td>\n",
       "      <td>2023-08</td>\n",
       "      <td>9/19/2023</td>\n",
       "    </tr>\n",
       "    <tr>\n",
       "      <th>3</th>\n",
       "      <td>11 UMi b</td>\n",
       "      <td>11 UMi</td>\n",
       "      <td>1</td>\n",
       "      <td>1</td>\n",
       "      <td>1</td>\n",
       "      <td>Radial Velocity</td>\n",
       "      <td>2009</td>\n",
       "      <td>Thueringer Landessternwarte Tautenburg</td>\n",
       "      <td>Published Confirmed</td>\n",
       "      <td>0</td>\n",
       "      <td>...</td>\n",
       "      <td>-0.005</td>\n",
       "      <td>1.939</td>\n",
       "      <td>0.270</td>\n",
       "      <td>-0.270</td>\n",
       "      <td>4.56216</td>\n",
       "      <td>0.003903</td>\n",
       "      <td>-0.003903</td>\n",
       "      <td>9/4/2018</td>\n",
       "      <td>2017-03</td>\n",
       "      <td>9/6/2018</td>\n",
       "    </tr>\n",
       "    <tr>\n",
       "      <th>4</th>\n",
       "      <td>11 UMi b</td>\n",
       "      <td>11 UMi</td>\n",
       "      <td>0</td>\n",
       "      <td>1</td>\n",
       "      <td>1</td>\n",
       "      <td>Radial Velocity</td>\n",
       "      <td>2009</td>\n",
       "      <td>Thueringer Landessternwarte Tautenburg</td>\n",
       "      <td>Published Confirmed</td>\n",
       "      <td>0</td>\n",
       "      <td>...</td>\n",
       "      <td>-0.005</td>\n",
       "      <td>1.939</td>\n",
       "      <td>0.270</td>\n",
       "      <td>-0.270</td>\n",
       "      <td>4.56216</td>\n",
       "      <td>0.003903</td>\n",
       "      <td>-0.003903</td>\n",
       "      <td>4/25/2018</td>\n",
       "      <td>2009-10</td>\n",
       "      <td>5/14/2014</td>\n",
       "    </tr>\n",
       "  </tbody>\n",
       "</table>\n",
       "<p>5 rows × 92 columns</p>\n",
       "</div>"
      ],
      "text/plain": [
       "    pl_name hostname  default_flag  sy_snum  sy_pnum  discoverymethod  \\\n",
       "0  11 Com b   11 Com             0        2        1  Radial Velocity   \n",
       "1  11 Com b   11 Com             0        2        1  Radial Velocity   \n",
       "2  11 Com b   11 Com             1        2        1  Radial Velocity   \n",
       "3  11 UMi b   11 UMi             1        1        1  Radial Velocity   \n",
       "4  11 UMi b   11 UMi             0        1        1  Radial Velocity   \n",
       "\n",
       "   disc_year                           disc_facility              soltype  \\\n",
       "0       2007                        Xinglong Station  Published Confirmed   \n",
       "1       2007                        Xinglong Station  Published Confirmed   \n",
       "2       2007                        Xinglong Station  Published Confirmed   \n",
       "3       2009  Thueringer Landessternwarte Tautenburg  Published Confirmed   \n",
       "4       2009  Thueringer Landessternwarte Tautenburg  Published Confirmed   \n",
       "\n",
       "   pl_controv_flag  ... sy_vmagerr2  sy_kmag  sy_kmagerr1  sy_kmagerr2  \\\n",
       "0                0  ...      -0.023    2.282        0.346       -0.346   \n",
       "1                0  ...      -0.023    2.282        0.346       -0.346   \n",
       "2                0  ...      -0.023    2.282        0.346       -0.346   \n",
       "3                0  ...      -0.005    1.939        0.270       -0.270   \n",
       "4                0  ...      -0.005    1.939        0.270       -0.270   \n",
       "\n",
       "   sy_gaiamag  sy_gaiamagerr1  sy_gaiamagerr2  rowupdate  pl_pubdate  \\\n",
       "0     4.44038        0.003848       -0.003848  5/14/2014     2008-01   \n",
       "1     4.44038        0.003848       -0.003848  7/23/2014     2011-08   \n",
       "2     4.44038        0.003848       -0.003848  9/19/2023     2023-08   \n",
       "3     4.56216        0.003903       -0.003903   9/4/2018     2017-03   \n",
       "4     4.56216        0.003903       -0.003903  4/25/2018     2009-10   \n",
       "\n",
       "   releasedate  \n",
       "0    5/14/2014  \n",
       "1    7/23/2014  \n",
       "2    9/19/2023  \n",
       "3     9/6/2018  \n",
       "4    5/14/2014  \n",
       "\n",
       "[5 rows x 92 columns]"
      ]
     },
     "execution_count": 2,
     "metadata": {},
     "output_type": "execute_result"
    }
   ],
   "source": [
    "df = pd.read_csv(\"ExoplanetHabitabilityData.csv\")\n",
    "df.head()"
   ]
  },
  {
   "cell_type": "code",
   "execution_count": 3,
   "id": "ff57803f",
   "metadata": {},
   "outputs": [
    {
     "data": {
      "text/plain": [
       "(38095, 92)"
      ]
     },
     "execution_count": 3,
     "metadata": {},
     "output_type": "execute_result"
    }
   ],
   "source": [
    "df.shape"
   ]
  },
  {
   "cell_type": "code",
   "execution_count": 4,
   "id": "1c302538",
   "metadata": {},
   "outputs": [
    {
     "name": "stdout",
     "output_type": "stream",
     "text": [
      "<class 'pandas.core.frame.DataFrame'>\n",
      "RangeIndex: 38095 entries, 0 to 38094\n",
      "Data columns (total 92 columns):\n",
      " #   Column           Non-Null Count  Dtype  \n",
      "---  ------           --------------  -----  \n",
      " 0   pl_name          38095 non-null  object \n",
      " 1   hostname         38095 non-null  object \n",
      " 2   default_flag     38095 non-null  int64  \n",
      " 3   sy_snum          38095 non-null  int64  \n",
      " 4   sy_pnum          38095 non-null  int64  \n",
      " 5   discoverymethod  38095 non-null  object \n",
      " 6   disc_year        38095 non-null  int64  \n",
      " 7   disc_facility    38095 non-null  object \n",
      " 8   soltype          38095 non-null  object \n",
      " 9   pl_controv_flag  38095 non-null  int64  \n",
      " 10  pl_refname       38095 non-null  object \n",
      " 11  pl_orbper        34909 non-null  float64\n",
      " 12  pl_orbpererr1    33367 non-null  float64\n",
      " 13  pl_orbpererr2    33366 non-null  float64\n",
      " 14  pl_orbperlim     34909 non-null  float64\n",
      " 15  pl_orbsmax       21539 non-null  float64\n",
      " 16  pl_orbsmaxerr1   7078 non-null   float64\n",
      " 17  pl_orbsmaxerr2   7077 non-null   float64\n",
      " 18  pl_orbsmaxlim    24323 non-null  float64\n",
      " 19  pl_rade          26417 non-null  float64\n",
      " 20  pl_radeerr1      25689 non-null  float64\n",
      " 21  pl_radeerr2      25689 non-null  float64\n",
      " 22  pl_radelim       29160 non-null  float64\n",
      " 23  pl_radj          26417 non-null  float64\n",
      " 24  pl_radjerr1      25689 non-null  float64\n",
      " 25  pl_radjerr2      25689 non-null  float64\n",
      " 26  pl_radjlim       26417 non-null  float64\n",
      " 27  pl_bmasse        6335 non-null   float64\n",
      " 28  pl_bmasseerr1    5807 non-null   float64\n",
      " 29  pl_bmasseerr2    5807 non-null   float64\n",
      " 30  pl_bmasselim     6335 non-null   float64\n",
      " 31  pl_bmassj        6334 non-null   float64\n",
      " 32  pl_bmassjerr1    5801 non-null   float64\n",
      " 33  pl_bmassjerr2    5801 non-null   float64\n",
      " 34  pl_bmassjlim     6334 non-null   float64\n",
      " 35  pl_bmassprov     6335 non-null   object \n",
      " 36  pl_orbeccen      18370 non-null  float64\n",
      " 37  pl_orbeccenerr1  3507 non-null   float64\n",
      " 38  pl_orbeccenerr2  3506 non-null   float64\n",
      " 39  pl_orbeccenlim   21112 non-null  float64\n",
      " 40  pl_insol         16732 non-null  float64\n",
      " 41  pl_insolerr1     15553 non-null  float64\n",
      " 42  pl_insolerr2     15553 non-null  float64\n",
      " 43  pl_insollim      21788 non-null  float64\n",
      " 44  pl_eqt           16681 non-null  float64\n",
      " 45  pl_eqterr1       2195 non-null   float64\n",
      " 46  pl_eqterr2       2195 non-null   float64\n",
      " 47  pl_eqtlim        19422 non-null  float64\n",
      " 48  ttv_flag         38095 non-null  int64  \n",
      " 49  st_refname       37745 non-null  object \n",
      " 50  st_spectype      2677 non-null   object \n",
      " 51  st_teff          35101 non-null  float64\n",
      " 52  st_tefferr1      34344 non-null  float64\n",
      " 53  st_tefferr2      34037 non-null  float64\n",
      " 54  st_tefflim       35101 non-null  float64\n",
      " 55  st_rad           35145 non-null  float64\n",
      " 56  st_raderr1       29615 non-null  float64\n",
      " 57  st_raderr2       29430 non-null  float64\n",
      " 58  st_radlim        35145 non-null  float64\n",
      " 59  st_mass          32327 non-null  float64\n",
      " 60  st_masserr1      26913 non-null  float64\n",
      " 61  st_masserr2      26718 non-null  float64\n",
      " 62  st_masslim       32334 non-null  float64\n",
      " 63  st_met           24298 non-null  float64\n",
      " 64  st_meterr1       23627 non-null  float64\n",
      " 65  st_meterr2       23627 non-null  float64\n",
      " 66  st_metlim        26609 non-null  float64\n",
      " 67  st_metratio      24101 non-null  object \n",
      " 68  st_logg          29808 non-null  float64\n",
      " 69  st_loggerr1      24526 non-null  float64\n",
      " 70  st_loggerr2      24525 non-null  float64\n",
      " 71  st_logglim       29808 non-null  float64\n",
      " 72  sy_refname       38095 non-null  object \n",
      " 73  rastr            38095 non-null  object \n",
      " 74  ra               38095 non-null  float64\n",
      " 75  decstr           38095 non-null  object \n",
      " 76  dec              38095 non-null  float64\n",
      " 77  sy_dist          37260 non-null  float64\n",
      " 78  sy_disterr1      36409 non-null  float64\n",
      " 79  sy_disterr2      36409 non-null  float64\n",
      " 80  sy_vmag          37367 non-null  float64\n",
      " 81  sy_vmagerr1      37354 non-null  float64\n",
      " 82  sy_vmagerr2      37353 non-null  float64\n",
      " 83  sy_kmag          37355 non-null  float64\n",
      " 84  sy_kmagerr1      37115 non-null  float64\n",
      " 85  sy_kmagerr2      37115 non-null  float64\n",
      " 86  sy_gaiamag       37065 non-null  float64\n",
      " 87  sy_gaiamagerr1   37065 non-null  float64\n",
      " 88  sy_gaiamagerr2   37065 non-null  float64\n",
      " 89  rowupdate        38094 non-null  object \n",
      " 90  pl_pubdate       38095 non-null  object \n",
      " 91  releasedate      38095 non-null  object \n",
      "dtypes: float64(70), int64(6), object(16)\n",
      "memory usage: 26.7+ MB\n"
     ]
    }
   ],
   "source": [
    "df.info()"
   ]
  },
  {
   "cell_type": "code",
   "execution_count": 5,
   "id": "29debed9",
   "metadata": {},
   "outputs": [
    {
     "data": {
      "text/plain": [
       "pl_name           0.000000\n",
       "hostname          0.000000\n",
       "default_flag      0.000000\n",
       "sy_snum           0.000000\n",
       "sy_pnum           0.000000\n",
       "                    ...   \n",
       "sy_gaiamagerr1    2.703767\n",
       "sy_gaiamagerr2    2.703767\n",
       "rowupdate         0.002625\n",
       "pl_pubdate        0.000000\n",
       "releasedate       0.000000\n",
       "Length: 92, dtype: float64"
      ]
     },
     "execution_count": 5,
     "metadata": {},
     "output_type": "execute_result"
    }
   ],
   "source": [
    "(df.isnull().sum()/len(df)) * 100"
   ]
  },
  {
   "cell_type": "code",
   "execution_count": 6,
   "id": "a42290b3",
   "metadata": {},
   "outputs": [],
   "source": [
    "df1 = df.copy()"
   ]
  },
  {
   "cell_type": "code",
   "execution_count": 8,
   "id": "b576e701",
   "metadata": {},
   "outputs": [
    {
     "name": "stderr",
     "output_type": "stream",
     "text": [
      "C:\\Users\\ASUS\\AppData\\Local\\Temp\\ipykernel_17624\\3989606077.py:4: FutureWarning: Dropping of nuisance columns in DataFrame reductions (with 'numeric_only=None') is deprecated; in a future version this will raise TypeError.  Select only valid columns before calling the reduction.\n",
      "  df1[fillna_columns] = df1[fillna_columns].fillna(df1[fillna_columns].median())\n"
     ]
    }
   ],
   "source": [
    "null_values = (df.isnull().sum()/len(df)) * 100\n",
    "df1 = df1.loc[:, null_values <= 50]\n",
    "fillna_columns = null_values[(null_values > 10) & (null_values <= 50)].index\n",
    "df1[fillna_columns] = df1[fillna_columns].fillna(df1[fillna_columns].median()) \n",
    "df1.dropna(inplace=True)"
   ]
  },
  {
   "cell_type": "code",
   "execution_count": 9,
   "id": "b46509ff",
   "metadata": {},
   "outputs": [
    {
     "data": {
      "text/plain": [
       "(21985, 71)"
      ]
     },
     "execution_count": 9,
     "metadata": {},
     "output_type": "execute_result"
    }
   ],
   "source": [
    "df1.shape"
   ]
  },
  {
   "cell_type": "code",
   "execution_count": 10,
   "id": "170c9ff6",
   "metadata": {},
   "outputs": [],
   "source": [
    "df1.drop_duplicates(inplace=True)"
   ]
  },
  {
   "cell_type": "code",
   "execution_count": 11,
   "id": "c05ca53d",
   "metadata": {},
   "outputs": [
    {
     "data": {
      "text/html": [
       "<div>\n",
       "<style scoped>\n",
       "    .dataframe tbody tr th:only-of-type {\n",
       "        vertical-align: middle;\n",
       "    }\n",
       "\n",
       "    .dataframe tbody tr th {\n",
       "        vertical-align: top;\n",
       "    }\n",
       "\n",
       "    .dataframe thead th {\n",
       "        text-align: right;\n",
       "    }\n",
       "</style>\n",
       "<table border=\"1\" class=\"dataframe\">\n",
       "  <thead>\n",
       "    <tr style=\"text-align: right;\">\n",
       "      <th></th>\n",
       "      <th>pl_name</th>\n",
       "      <th>hostname</th>\n",
       "      <th>default_flag</th>\n",
       "      <th>sy_snum</th>\n",
       "      <th>sy_pnum</th>\n",
       "      <th>discoverymethod</th>\n",
       "      <th>disc_year</th>\n",
       "      <th>disc_facility</th>\n",
       "      <th>soltype</th>\n",
       "      <th>pl_controv_flag</th>\n",
       "      <th>...</th>\n",
       "      <th>sy_vmagerr2</th>\n",
       "      <th>sy_kmag</th>\n",
       "      <th>sy_kmagerr1</th>\n",
       "      <th>sy_kmagerr2</th>\n",
       "      <th>sy_gaiamag</th>\n",
       "      <th>sy_gaiamagerr1</th>\n",
       "      <th>sy_gaiamagerr2</th>\n",
       "      <th>rowupdate</th>\n",
       "      <th>pl_pubdate</th>\n",
       "      <th>releasedate</th>\n",
       "    </tr>\n",
       "  </thead>\n",
       "  <tbody>\n",
       "    <tr>\n",
       "      <th>count</th>\n",
       "      <td>21985</td>\n",
       "      <td>21985</td>\n",
       "      <td>21985.000000</td>\n",
       "      <td>21985.000000</td>\n",
       "      <td>21985.000000</td>\n",
       "      <td>21985</td>\n",
       "      <td>21985.000000</td>\n",
       "      <td>21985</td>\n",
       "      <td>21985</td>\n",
       "      <td>21985.000000</td>\n",
       "      <td>...</td>\n",
       "      <td>21985.000000</td>\n",
       "      <td>21985.000000</td>\n",
       "      <td>21985.000000</td>\n",
       "      <td>21985.000000</td>\n",
       "      <td>21985.000000</td>\n",
       "      <td>21985.000000</td>\n",
       "      <td>21985.000000</td>\n",
       "      <td>21985</td>\n",
       "      <td>21985</td>\n",
       "      <td>21985</td>\n",
       "    </tr>\n",
       "    <tr>\n",
       "      <th>unique</th>\n",
       "      <td>4737</td>\n",
       "      <td>3504</td>\n",
       "      <td>NaN</td>\n",
       "      <td>NaN</td>\n",
       "      <td>NaN</td>\n",
       "      <td>6</td>\n",
       "      <td>NaN</td>\n",
       "      <td>50</td>\n",
       "      <td>7</td>\n",
       "      <td>NaN</td>\n",
       "      <td>...</td>\n",
       "      <td>NaN</td>\n",
       "      <td>NaN</td>\n",
       "      <td>NaN</td>\n",
       "      <td>NaN</td>\n",
       "      <td>NaN</td>\n",
       "      <td>NaN</td>\n",
       "      <td>NaN</td>\n",
       "      <td>388</td>\n",
       "      <td>226</td>\n",
       "      <td>374</td>\n",
       "    </tr>\n",
       "    <tr>\n",
       "      <th>top</th>\n",
       "      <td>TrES-2 b</td>\n",
       "      <td>Kepler-11</td>\n",
       "      <td>NaN</td>\n",
       "      <td>NaN</td>\n",
       "      <td>NaN</td>\n",
       "      <td>Transit</td>\n",
       "      <td>NaN</td>\n",
       "      <td>Kepler</td>\n",
       "      <td>Published Confirmed</td>\n",
       "      <td>NaN</td>\n",
       "      <td>...</td>\n",
       "      <td>NaN</td>\n",
       "      <td>NaN</td>\n",
       "      <td>NaN</td>\n",
       "      <td>NaN</td>\n",
       "      <td>NaN</td>\n",
       "      <td>NaN</td>\n",
       "      <td>NaN</td>\n",
       "      <td>11/21/2014</td>\n",
       "      <td>12/18/2014</td>\n",
       "      <td>11/21/2014</td>\n",
       "    </tr>\n",
       "    <tr>\n",
       "      <th>freq</th>\n",
       "      <td>19</td>\n",
       "      <td>65</td>\n",
       "      <td>NaN</td>\n",
       "      <td>NaN</td>\n",
       "      <td>NaN</td>\n",
       "      <td>20630</td>\n",
       "      <td>NaN</td>\n",
       "      <td>17574</td>\n",
       "      <td>9204</td>\n",
       "      <td>NaN</td>\n",
       "      <td>...</td>\n",
       "      <td>NaN</td>\n",
       "      <td>NaN</td>\n",
       "      <td>NaN</td>\n",
       "      <td>NaN</td>\n",
       "      <td>NaN</td>\n",
       "      <td>NaN</td>\n",
       "      <td>NaN</td>\n",
       "      <td>2528</td>\n",
       "      <td>2528</td>\n",
       "      <td>2528</td>\n",
       "    </tr>\n",
       "    <tr>\n",
       "      <th>mean</th>\n",
       "      <td>NaN</td>\n",
       "      <td>NaN</td>\n",
       "      <td>0.165476</td>\n",
       "      <td>1.072368</td>\n",
       "      <td>1.922311</td>\n",
       "      <td>NaN</td>\n",
       "      <td>2015.557380</td>\n",
       "      <td>NaN</td>\n",
       "      <td>NaN</td>\n",
       "      <td>0.001410</td>\n",
       "      <td>...</td>\n",
       "      <td>-0.111724</td>\n",
       "      <td>11.670331</td>\n",
       "      <td>0.032410</td>\n",
       "      <td>-0.032410</td>\n",
       "      <td>13.413659</td>\n",
       "      <td>0.000406</td>\n",
       "      <td>-0.000406</td>\n",
       "      <td>NaN</td>\n",
       "      <td>NaN</td>\n",
       "      <td>NaN</td>\n",
       "    </tr>\n",
       "    <tr>\n",
       "      <th>std</th>\n",
       "      <td>NaN</td>\n",
       "      <td>NaN</td>\n",
       "      <td>0.371618</td>\n",
       "      <td>0.284058</td>\n",
       "      <td>1.216907</td>\n",
       "      <td>NaN</td>\n",
       "      <td>3.617264</td>\n",
       "      <td>NaN</td>\n",
       "      <td>NaN</td>\n",
       "      <td>0.037525</td>\n",
       "      <td>...</td>\n",
       "      <td>0.116799</td>\n",
       "      <td>2.133148</td>\n",
       "      <td>0.163454</td>\n",
       "      <td>0.163454</td>\n",
       "      <td>2.177222</td>\n",
       "      <td>0.000397</td>\n",
       "      <td>0.000397</td>\n",
       "      <td>NaN</td>\n",
       "      <td>NaN</td>\n",
       "      <td>NaN</td>\n",
       "    </tr>\n",
       "    <tr>\n",
       "      <th>min</th>\n",
       "      <td>NaN</td>\n",
       "      <td>NaN</td>\n",
       "      <td>0.000000</td>\n",
       "      <td>1.000000</td>\n",
       "      <td>1.000000</td>\n",
       "      <td>NaN</td>\n",
       "      <td>1995.000000</td>\n",
       "      <td>NaN</td>\n",
       "      <td>NaN</td>\n",
       "      <td>0.000000</td>\n",
       "      <td>...</td>\n",
       "      <td>-1.133000</td>\n",
       "      <td>0.190000</td>\n",
       "      <td>0.011000</td>\n",
       "      <td>-9.995000</td>\n",
       "      <td>2.926270</td>\n",
       "      <td>0.000118</td>\n",
       "      <td>-0.016416</td>\n",
       "      <td>NaN</td>\n",
       "      <td>NaN</td>\n",
       "      <td>NaN</td>\n",
       "    </tr>\n",
       "    <tr>\n",
       "      <th>25%</th>\n",
       "      <td>NaN</td>\n",
       "      <td>NaN</td>\n",
       "      <td>0.000000</td>\n",
       "      <td>1.000000</td>\n",
       "      <td>1.000000</td>\n",
       "      <td>NaN</td>\n",
       "      <td>2014.000000</td>\n",
       "      <td>NaN</td>\n",
       "      <td>NaN</td>\n",
       "      <td>0.000000</td>\n",
       "      <td>...</td>\n",
       "      <td>-0.137000</td>\n",
       "      <td>10.907000</td>\n",
       "      <td>0.020000</td>\n",
       "      <td>-0.034000</td>\n",
       "      <td>12.500400</td>\n",
       "      <td>0.000244</td>\n",
       "      <td>-0.000469</td>\n",
       "      <td>NaN</td>\n",
       "      <td>NaN</td>\n",
       "      <td>NaN</td>\n",
       "    </tr>\n",
       "    <tr>\n",
       "      <th>50%</th>\n",
       "      <td>NaN</td>\n",
       "      <td>NaN</td>\n",
       "      <td>0.000000</td>\n",
       "      <td>1.000000</td>\n",
       "      <td>1.000000</td>\n",
       "      <td>NaN</td>\n",
       "      <td>2016.000000</td>\n",
       "      <td>NaN</td>\n",
       "      <td>NaN</td>\n",
       "      <td>0.000000</td>\n",
       "      <td>...</td>\n",
       "      <td>-0.092000</td>\n",
       "      <td>12.256000</td>\n",
       "      <td>0.024000</td>\n",
       "      <td>-0.024000</td>\n",
       "      <td>13.922200</td>\n",
       "      <td>0.000329</td>\n",
       "      <td>-0.000329</td>\n",
       "      <td>NaN</td>\n",
       "      <td>NaN</td>\n",
       "      <td>NaN</td>\n",
       "    </tr>\n",
       "    <tr>\n",
       "      <th>75%</th>\n",
       "      <td>NaN</td>\n",
       "      <td>NaN</td>\n",
       "      <td>0.000000</td>\n",
       "      <td>1.000000</td>\n",
       "      <td>3.000000</td>\n",
       "      <td>NaN</td>\n",
       "      <td>2016.000000</td>\n",
       "      <td>NaN</td>\n",
       "      <td>NaN</td>\n",
       "      <td>0.000000</td>\n",
       "      <td>...</td>\n",
       "      <td>-0.057000</td>\n",
       "      <td>13.145000</td>\n",
       "      <td>0.034000</td>\n",
       "      <td>-0.020000</td>\n",
       "      <td>14.991400</td>\n",
       "      <td>0.000469</td>\n",
       "      <td>-0.000244</td>\n",
       "      <td>NaN</td>\n",
       "      <td>NaN</td>\n",
       "      <td>NaN</td>\n",
       "    </tr>\n",
       "    <tr>\n",
       "      <th>max</th>\n",
       "      <td>NaN</td>\n",
       "      <td>NaN</td>\n",
       "      <td>1.000000</td>\n",
       "      <td>4.000000</td>\n",
       "      <td>8.000000</td>\n",
       "      <td>NaN</td>\n",
       "      <td>2025.000000</td>\n",
       "      <td>NaN</td>\n",
       "      <td>NaN</td>\n",
       "      <td>1.000000</td>\n",
       "      <td>...</td>\n",
       "      <td>-0.001000</td>\n",
       "      <td>15.271000</td>\n",
       "      <td>9.995000</td>\n",
       "      <td>-0.011000</td>\n",
       "      <td>17.260400</td>\n",
       "      <td>0.016416</td>\n",
       "      <td>-0.000118</td>\n",
       "      <td>NaN</td>\n",
       "      <td>NaN</td>\n",
       "      <td>NaN</td>\n",
       "    </tr>\n",
       "  </tbody>\n",
       "</table>\n",
       "<p>11 rows × 71 columns</p>\n",
       "</div>"
      ],
      "text/plain": [
       "         pl_name   hostname  default_flag       sy_snum       sy_pnum  \\\n",
       "count      21985      21985  21985.000000  21985.000000  21985.000000   \n",
       "unique      4737       3504           NaN           NaN           NaN   \n",
       "top     TrES-2 b  Kepler-11           NaN           NaN           NaN   \n",
       "freq          19         65           NaN           NaN           NaN   \n",
       "mean         NaN        NaN      0.165476      1.072368      1.922311   \n",
       "std          NaN        NaN      0.371618      0.284058      1.216907   \n",
       "min          NaN        NaN      0.000000      1.000000      1.000000   \n",
       "25%          NaN        NaN      0.000000      1.000000      1.000000   \n",
       "50%          NaN        NaN      0.000000      1.000000      1.000000   \n",
       "75%          NaN        NaN      0.000000      1.000000      3.000000   \n",
       "max          NaN        NaN      1.000000      4.000000      8.000000   \n",
       "\n",
       "       discoverymethod     disc_year disc_facility              soltype  \\\n",
       "count            21985  21985.000000         21985                21985   \n",
       "unique               6           NaN            50                    7   \n",
       "top            Transit           NaN        Kepler  Published Confirmed   \n",
       "freq             20630           NaN         17574                 9204   \n",
       "mean               NaN   2015.557380           NaN                  NaN   \n",
       "std                NaN      3.617264           NaN                  NaN   \n",
       "min                NaN   1995.000000           NaN                  NaN   \n",
       "25%                NaN   2014.000000           NaN                  NaN   \n",
       "50%                NaN   2016.000000           NaN                  NaN   \n",
       "75%                NaN   2016.000000           NaN                  NaN   \n",
       "max                NaN   2025.000000           NaN                  NaN   \n",
       "\n",
       "        pl_controv_flag  ...   sy_vmagerr2       sy_kmag   sy_kmagerr1  \\\n",
       "count      21985.000000  ...  21985.000000  21985.000000  21985.000000   \n",
       "unique              NaN  ...           NaN           NaN           NaN   \n",
       "top                 NaN  ...           NaN           NaN           NaN   \n",
       "freq                NaN  ...           NaN           NaN           NaN   \n",
       "mean           0.001410  ...     -0.111724     11.670331      0.032410   \n",
       "std            0.037525  ...      0.116799      2.133148      0.163454   \n",
       "min            0.000000  ...     -1.133000      0.190000      0.011000   \n",
       "25%            0.000000  ...     -0.137000     10.907000      0.020000   \n",
       "50%            0.000000  ...     -0.092000     12.256000      0.024000   \n",
       "75%            0.000000  ...     -0.057000     13.145000      0.034000   \n",
       "max            1.000000  ...     -0.001000     15.271000      9.995000   \n",
       "\n",
       "         sy_kmagerr2    sy_gaiamag  sy_gaiamagerr1  sy_gaiamagerr2  \\\n",
       "count   21985.000000  21985.000000    21985.000000    21985.000000   \n",
       "unique           NaN           NaN             NaN             NaN   \n",
       "top              NaN           NaN             NaN             NaN   \n",
       "freq             NaN           NaN             NaN             NaN   \n",
       "mean       -0.032410     13.413659        0.000406       -0.000406   \n",
       "std         0.163454      2.177222        0.000397        0.000397   \n",
       "min        -9.995000      2.926270        0.000118       -0.016416   \n",
       "25%        -0.034000     12.500400        0.000244       -0.000469   \n",
       "50%        -0.024000     13.922200        0.000329       -0.000329   \n",
       "75%        -0.020000     14.991400        0.000469       -0.000244   \n",
       "max        -0.011000     17.260400        0.016416       -0.000118   \n",
       "\n",
       "         rowupdate  pl_pubdate  releasedate  \n",
       "count        21985       21985        21985  \n",
       "unique         388         226          374  \n",
       "top     11/21/2014  12/18/2014   11/21/2014  \n",
       "freq          2528        2528         2528  \n",
       "mean           NaN         NaN          NaN  \n",
       "std            NaN         NaN          NaN  \n",
       "min            NaN         NaN          NaN  \n",
       "25%            NaN         NaN          NaN  \n",
       "50%            NaN         NaN          NaN  \n",
       "75%            NaN         NaN          NaN  \n",
       "max            NaN         NaN          NaN  \n",
       "\n",
       "[11 rows x 71 columns]"
      ]
     },
     "execution_count": 11,
     "metadata": {},
     "output_type": "execute_result"
    }
   ],
   "source": [
    "df1.describe(include=\"all\")"
   ]
  },
  {
   "cell_type": "code",
   "execution_count": 12,
   "id": "8d90a142",
   "metadata": {},
   "outputs": [],
   "source": [
    "df = df1.copy()"
   ]
  },
  {
   "cell_type": "code",
   "execution_count": 21,
   "id": "e0f0f5c8",
   "metadata": {},
   "outputs": [],
   "source": [
    "features_to_keep = [\n",
    "    'sy_snum',          # number of stars in system\n",
    "    'sy_pnum',          # number of planets in system\n",
    "    'pl_orbper',        # orbital period\n",
    "    'pl_orbsmax',       # semi-major axis\n",
    "    'pl_rade',          # planet radius (Earth)\n",
    "    'pl_radj',          # planet radius (Jupiter)\n",
    "    'st_teff',          # stellar effective temperature\n",
    "    'st_rad',           # stellar radius\n",
    "    'st_mass',          # stellar mass\n",
    "    'st_met',           # stellar metallicity\n",
    "    'st_logg',          # stellar surface gravity\n",
    "    'sy_dist',          # distance\n",
    "    'sy_vmag',          # visual magnitude\n",
    "    'sy_kmag',          # infrared magnitude\n",
    "    'sy_gaiamag'        # Gaia magnitude\n",
    "]\n"
   ]
  },
  {
   "cell_type": "markdown",
   "id": "e1fab443",
   "metadata": {},
   "source": [
    "Target variable"
   ]
  },
  {
   "cell_type": "code",
   "execution_count": 22,
   "id": "edd927ef",
   "metadata": {},
   "outputs": [],
   "source": [
    "df['habitable'] = (\n",
    "    (df['st_teff'] >= 4800) & (df['st_teff'] <= 6300) &\n",
    "    (df['pl_rade'] >= 0.5) & (df['pl_rade'] <= 2.0) &\n",
    "    (df['pl_orbsmax'] >= 0.1) & (df['pl_orbsmax'] <= 2.0)\n",
    ").astype(int)\n",
    "\n",
    "# according to NASA"
   ]
  },
  {
   "cell_type": "code",
   "execution_count": 23,
   "id": "adb93821",
   "metadata": {},
   "outputs": [],
   "source": [
    "selected_features = features_to_keep + ['habitable']\n",
    "df = df[selected_features]"
   ]
  },
  {
   "cell_type": "code",
   "execution_count": 24,
   "id": "dd3ce21d",
   "metadata": {},
   "outputs": [
    {
     "data": {
      "text/plain": [
       "sy_snum       0\n",
       "sy_pnum       0\n",
       "pl_orbper     0\n",
       "pl_orbsmax    0\n",
       "pl_rade       0\n",
       "pl_radj       0\n",
       "st_teff       0\n",
       "st_rad        0\n",
       "st_mass       0\n",
       "st_met        0\n",
       "st_logg       0\n",
       "sy_dist       0\n",
       "sy_vmag       0\n",
       "sy_kmag       0\n",
       "sy_gaiamag    0\n",
       "habitable     0\n",
       "dtype: int64"
      ]
     },
     "execution_count": 24,
     "metadata": {},
     "output_type": "execute_result"
    }
   ],
   "source": [
    "df.isnull().sum()"
   ]
  },
  {
   "cell_type": "code",
   "execution_count": 25,
   "id": "708b0e45",
   "metadata": {},
   "outputs": [
    {
     "data": {
      "text/plain": [
       "0    19707\n",
       "1     2278\n",
       "Name: habitable, dtype: int64"
      ]
     },
     "execution_count": 25,
     "metadata": {},
     "output_type": "execute_result"
    }
   ],
   "source": [
    "df.habitable.value_counts()"
   ]
  },
  {
   "cell_type": "code",
   "execution_count": 28,
   "id": "bd8febfc",
   "metadata": {},
   "outputs": [
    {
     "data": {
      "image/png": "[encoded data removed]",
      "text/plain": [
       "<Figure size 1080x720 with 2 Axes>"
      ]
     },
     "metadata": {
      "needs_background": "light"
     },
     "output_type": "display_data"
    }
   ],
   "source": [
    "plt.figure(figsize=(15, 10))\n",
    "sns.heatmap(data=df.corr(), cmap=\"coolwarm\", annot=True)\n",
    "plt.show()"
   ]
  },
  {
   "cell_type": "code",
   "execution_count": 29,
   "id": "f50a66f8",
   "metadata": {},
   "outputs": [],
   "source": [
    "# Drop highly correlated and irrelevant features\n",
    "df = df.drop(columns=[\n",
    "    'pl_orbper',  # Perfectly correlated with pl_orbsmax\n",
    "    'sy_vmag', 'sy_kmag'# Highly correlated > 0.95\n",
    "])\n"
   ]
  },
  {
   "cell_type": "code",
   "execution_count": 30,
   "id": "41a0fb9d",
   "metadata": {},
   "outputs": [
    {
     "data": {
      "text/html": [
       "<div>\n",
       "<style scoped>\n",
       "    .dataframe tbody tr th:only-of-type {\n",
       "        vertical-align: middle;\n",
       "    }\n",
       "\n",
       "    .dataframe tbody tr th {\n",
       "        vertical-align: top;\n",
       "    }\n",
       "\n",
       "    .dataframe thead th {\n",
       "        text-align: right;\n",
       "    }\n",
       "</style>\n",
       "<table border=\"1\" class=\"dataframe\">\n",
       "  <thead>\n",
       "    <tr style=\"text-align: right;\">\n",
       "      <th></th>\n",
       "      <th>sy_snum</th>\n",
       "      <th>sy_pnum</th>\n",
       "      <th>pl_orbsmax</th>\n",
       "      <th>pl_rade</th>\n",
       "      <th>pl_radj</th>\n",
       "      <th>st_teff</th>\n",
       "      <th>st_rad</th>\n",
       "      <th>st_mass</th>\n",
       "      <th>st_met</th>\n",
       "      <th>st_logg</th>\n",
       "      <th>sy_dist</th>\n",
       "      <th>sy_gaiamag</th>\n",
       "      <th>habitable</th>\n",
       "    </tr>\n",
       "  </thead>\n",
       "  <tbody>\n",
       "    <tr>\n",
       "      <th>count</th>\n",
       "      <td>21985.000000</td>\n",
       "      <td>21985.000000</td>\n",
       "      <td>21985.000000</td>\n",
       "      <td>21985.000000</td>\n",
       "      <td>21985.000000</td>\n",
       "      <td>21985.000000</td>\n",
       "      <td>21985.000000</td>\n",
       "      <td>21985.000000</td>\n",
       "      <td>21985.000000</td>\n",
       "      <td>21985.000000</td>\n",
       "      <td>21985.000000</td>\n",
       "      <td>21985.000000</td>\n",
       "      <td>21985.000000</td>\n",
       "    </tr>\n",
       "    <tr>\n",
       "      <th>mean</th>\n",
       "      <td>1.072368</td>\n",
       "      <td>1.922311</td>\n",
       "      <td>0.546795</td>\n",
       "      <td>5.254211</td>\n",
       "      <td>0.468701</td>\n",
       "      <td>5504.612659</td>\n",
       "      <td>1.190536</td>\n",
       "      <td>0.964111</td>\n",
       "      <td>-0.023602</td>\n",
       "      <td>4.406857</td>\n",
       "      <td>669.919813</td>\n",
       "      <td>13.413659</td>\n",
       "      <td>0.103616</td>\n",
       "    </tr>\n",
       "    <tr>\n",
       "      <th>std</th>\n",
       "      <td>0.284058</td>\n",
       "      <td>1.216907</td>\n",
       "      <td>50.625288</td>\n",
       "      <td>79.635668</td>\n",
       "      <td>7.104637</td>\n",
       "      <td>712.300918</td>\n",
       "      <td>1.990008</td>\n",
       "      <td>0.315034</td>\n",
       "      <td>0.223978</td>\n",
       "      <td>0.283561</td>\n",
       "      <td>464.030620</td>\n",
       "      <td>2.177222</td>\n",
       "      <td>0.304769</td>\n",
       "    </tr>\n",
       "    <tr>\n",
       "      <th>min</th>\n",
       "      <td>1.000000</td>\n",
       "      <td>1.000000</td>\n",
       "      <td>0.005800</td>\n",
       "      <td>0.270000</td>\n",
       "      <td>0.024000</td>\n",
       "      <td>2703.000000</td>\n",
       "      <td>0.110000</td>\n",
       "      <td>0.090000</td>\n",
       "      <td>-2.500000</td>\n",
       "      <td>0.900000</td>\n",
       "      <td>1.826550</td>\n",
       "      <td>2.926270</td>\n",
       "      <td>0.000000</td>\n",
       "    </tr>\n",
       "    <tr>\n",
       "      <th>25%</th>\n",
       "      <td>1.000000</td>\n",
       "      <td>1.000000</td>\n",
       "      <td>0.070000</td>\n",
       "      <td>1.700000</td>\n",
       "      <td>0.152000</td>\n",
       "      <td>5179.810000</td>\n",
       "      <td>0.810000</td>\n",
       "      <td>0.840000</td>\n",
       "      <td>-0.150000</td>\n",
       "      <td>4.330000</td>\n",
       "      <td>316.618000</td>\n",
       "      <td>12.500400</td>\n",
       "      <td>0.000000</td>\n",
       "    </tr>\n",
       "    <tr>\n",
       "      <th>50%</th>\n",
       "      <td>1.000000</td>\n",
       "      <td>1.000000</td>\n",
       "      <td>0.100500</td>\n",
       "      <td>2.290000</td>\n",
       "      <td>0.204000</td>\n",
       "      <td>5650.000000</td>\n",
       "      <td>0.960000</td>\n",
       "      <td>0.960000</td>\n",
       "      <td>-0.010000</td>\n",
       "      <td>4.470000</td>\n",
       "      <td>611.041000</td>\n",
       "      <td>13.922200</td>\n",
       "      <td>0.000000</td>\n",
       "    </tr>\n",
       "    <tr>\n",
       "      <th>75%</th>\n",
       "      <td>1.000000</td>\n",
       "      <td>3.000000</td>\n",
       "      <td>0.124300</td>\n",
       "      <td>2.760000</td>\n",
       "      <td>0.246000</td>\n",
       "      <td>5975.640000</td>\n",
       "      <td>1.220000</td>\n",
       "      <td>1.080000</td>\n",
       "      <td>0.120000</td>\n",
       "      <td>4.550000</td>\n",
       "      <td>928.989000</td>\n",
       "      <td>14.991400</td>\n",
       "      <td>0.000000</td>\n",
       "    </tr>\n",
       "    <tr>\n",
       "      <th>max</th>\n",
       "      <td>4.000000</td>\n",
       "      <td>8.000000</td>\n",
       "      <td>7506.000000</td>\n",
       "      <td>4282.980000</td>\n",
       "      <td>382.103000</td>\n",
       "      <td>10170.000000</td>\n",
       "      <td>88.470000</td>\n",
       "      <td>23.560000</td>\n",
       "      <td>7.790000</td>\n",
       "      <td>5.400000</td>\n",
       "      <td>3460.510000</td>\n",
       "      <td>17.260400</td>\n",
       "      <td>1.000000</td>\n",
       "    </tr>\n",
       "  </tbody>\n",
       "</table>\n",
       "</div>"
      ],
      "text/plain": [
       "            sy_snum       sy_pnum    pl_orbsmax       pl_rade       pl_radj  \\\n",
       "count  21985.000000  21985.000000  21985.000000  21985.000000  21985.000000   \n",
       "mean       1.072368      1.922311      0.546795      5.254211      0.468701   \n",
       "std        0.284058      1.216907     50.625288     79.635668      7.104637   \n",
       "min        1.000000      1.000000      0.005800      0.270000      0.024000   \n",
       "25%        1.000000      1.000000      0.070000      1.700000      0.152000   \n",
       "50%        1.000000      1.000000      0.100500      2.290000      0.204000   \n",
       "75%        1.000000      3.000000      0.124300      2.760000      0.246000   \n",
       "max        4.000000      8.000000   7506.000000   4282.980000    382.103000   \n",
       "\n",
       "            st_teff        st_rad       st_mass        st_met       st_logg  \\\n",
       "count  21985.000000  21985.000000  21985.000000  21985.000000  21985.000000   \n",
       "mean    5504.612659      1.190536      0.964111     -0.023602      4.406857   \n",
       "std      712.300918      1.990008      0.315034      0.223978      0.283561   \n",
       "min     2703.000000      0.110000      0.090000     -2.500000      0.900000   \n",
       "25%     5179.810000      0.810000      0.840000     -0.150000      4.330000   \n",
       "50%     5650.000000      0.960000      0.960000     -0.010000      4.470000   \n",
       "75%     5975.640000      1.220000      1.080000      0.120000      4.550000   \n",
       "max    10170.000000     88.470000     23.560000      7.790000      5.400000   \n",
       "\n",
       "            sy_dist    sy_gaiamag     habitable  \n",
       "count  21985.000000  21985.000000  21985.000000  \n",
       "mean     669.919813     13.413659      0.103616  \n",
       "std      464.030620      2.177222      0.304769  \n",
       "min        1.826550      2.926270      0.000000  \n",
       "25%      316.618000     12.500400      0.000000  \n",
       "50%      611.041000     13.922200      0.000000  \n",
       "75%      928.989000     14.991400      0.000000  \n",
       "max     3460.510000     17.260400      1.000000  "
      ]
     },
     "execution_count": 30,
     "metadata": {},
     "output_type": "execute_result"
    }
   ],
   "source": [
    "df.describe()"
   ]
  },
  {
   "cell_type": "code",
   "execution_count": 32,
   "id": "3a0435f3",
   "metadata": {},
   "outputs": [
    {
     "name": "stdout",
     "output_type": "stream",
     "text": [
      "              precision    recall  f1-score   support\n",
      "\n",
      "           0       1.00      1.00      1.00      3941\n",
      "           1       1.00      1.00      1.00       456\n",
      "\n",
      "    accuracy                           1.00      4397\n",
      "   macro avg       1.00      1.00      1.00      4397\n",
      "weighted avg       1.00      1.00      1.00      4397\n",
      "\n"
     ]
    }
   ],
   "source": [
    "from sklearn.model_selection import train_test_split\n",
    "from sklearn.ensemble import RandomForestClassifier\n",
    "from sklearn.metrics import classification_report\n",
    "\n",
    "X = df.drop(columns=['habitable'])\n",
    "y = df['habitable']\n",
    "\n",
    "X_train, X_test, y_train, y_test = train_test_split(X, y, test_size=0.2, random_state=42, stratify=y)\n",
    "\n",
    "clf = RandomForestClassifier(class_weight='balanced', random_state=42)\n",
    "clf.fit(X_train, y_train)\n",
    "y_pred = clf.predict(X_test)\n",
    "\n",
    "print(classification_report(y_test, y_pred))"
   ]
  },
  {
   "cell_type": "code",
   "execution_count": 35,
   "id": "16662876",
   "metadata": {},
   "outputs": [
    {
     "data": {
      "image/png": "[encoded data removed]",
      "text/plain": [
       "<Figure size 720x432 with 1 Axes>"
      ]
     },
     "metadata": {
      "needs_background": "light"
     },
     "output_type": "display_data"
    }
   ],
   "source": [
    "importances = clf.feature_importances_\n",
    "features = X_train.columns\n",
    "\n",
    "# Create a DataFrame\n",
    "feat_df = pd.DataFrame({'Feature': features, 'Importance': importances})\n",
    "feat_df = feat_df.sort_values(by='Importance', ascending=False)\n",
    "\n",
    "# Plot\n",
    "plt.figure(figsize=(10, 6))\n",
    "sns.barplot(x='Importance', y='Feature', data=feat_df.head(15))\n",
    "plt.title('Feature Importances')\n",
    "plt.tight_layout()\n",
    "plt.show()"
   ]
  },
  {
   "cell_type": "code",
   "execution_count": 38,
   "id": "7a50068e",
   "metadata": {},
   "outputs": [
    {
     "name": "stdout",
     "output_type": "stream",
     "text": [
      "              precision    recall  f1-score   support\n",
      "\n",
      "           0       0.89      0.91      0.90      3941\n",
      "           1       0.08      0.07      0.08       456\n",
      "\n",
      "    accuracy                           0.82      4397\n",
      "   macro avg       0.49      0.49      0.49      4397\n",
      "weighted avg       0.81      0.82      0.82      4397\n",
      "\n"
     ]
    }
   ],
   "source": [
    "from sklearn.utils import shuffle\n",
    "\n",
    "# Only shuffle y_train, but keep it the same length as X_train\n",
    "y_train_shuffled = shuffle(y_train, random_state=42)\n",
    "\n",
    "# Fit your model with shuffled labels\n",
    "clf.fit(X_train, y_train_shuffled)\n",
    "\n",
    "# Predict using the actual test set\n",
    "y_pred = clf.predict(X_test)\n",
    "\n",
    "from sklearn.metrics import classification_report\n",
    "print(classification_report(y_test, y_pred))\n"
   ]
  },
  {
   "cell_type": "code",
   "execution_count": 39,
   "id": "64bdfe01",
   "metadata": {},
   "outputs": [],
   "source": [
    "from imblearn.over_sampling import SMOTE\n",
    "\n",
    "sm = SMOTE(random_state=42)\n",
    "X_train_sm, y_train_sm = sm.fit_resample(X_train, y_train)"
   ]
  },
  {
   "cell_type": "code",
   "execution_count": 42,
   "id": "8505b2c0",
   "metadata": {},
   "outputs": [
    {
     "name": "stdout",
     "output_type": "stream",
     "text": [
      "              precision    recall  f1-score   support\n",
      "\n",
      "           0       1.00      1.00      1.00      3941\n",
      "           1       1.00      1.00      1.00       456\n",
      "\n",
      "    accuracy                           1.00      4397\n",
      "   macro avg       1.00      1.00      1.00      4397\n",
      "weighted avg       1.00      1.00      1.00      4397\n",
      "\n"
     ]
    }
   ],
   "source": [
    "clf = RandomForestClassifier(class_weight='balanced', random_state=42)\n",
    "clf.fit(X_train_sm, y_train_sm)\n",
    "y_pred = clf.predict(X_test)\n",
    "\n",
    "print(classification_report(y_test, y_pred))"
   ]
  },
  {
   "cell_type": "code",
   "execution_count": 44,
   "id": "bb346558",
   "metadata": {},
   "outputs": [],
   "source": [
    "from sklearn.model_selection import train_test_split\n",
    "from imblearn.over_sampling import SMOTE\n",
    "\n",
    "# 1. Split first!\n",
    "X_train, X_test, y_train, y_test = train_test_split(X, y, stratify=y, test_size=0.2, random_state=42)\n",
    "\n",
    "# 2. Apply SMOTE to train only\n",
    "sm = SMOTE(random_state=42)\n",
    "X_train_sm, y_train_sm = sm.fit_resample(X_train, y_train)\n",
    "\n",
    "# 3. Train model\n",
    "clf.fit(X_train_sm, y_train_sm)\n",
    "\n",
    "# 4. Predict on **original** X_test\n",
    "y_pred = clf.predict(X_test)\n"
   ]
  },
  {
   "cell_type": "code",
   "execution_count": 45,
   "id": "41d270be",
   "metadata": {},
   "outputs": [
    {
     "name": "stdout",
     "output_type": "stream",
     "text": [
      "              precision    recall  f1-score   support\n",
      "\n",
      "           0       1.00      1.00      1.00      3941\n",
      "           1       1.00      1.00      1.00       456\n",
      "\n",
      "    accuracy                           1.00      4397\n",
      "   macro avg       1.00      1.00      1.00      4397\n",
      "weighted avg       1.00      1.00      1.00      4397\n",
      "\n"
     ]
    }
   ],
   "source": [
    "print(classification_report(y_test, y_pred))"
   ]
  },
  {
   "cell_type": "code",
   "execution_count": 48,
   "id": "bb362b6f",
   "metadata": {},
   "outputs": [
    {
     "name": "stdout",
     "output_type": "stream",
     "text": [
      "              precision    recall  f1-score   support\n",
      "\n",
      "           0       0.90      0.50      0.64      3941\n",
      "           1       0.11      0.52      0.18       456\n",
      "\n",
      "    accuracy                           0.50      4397\n",
      "   macro avg       0.50      0.51      0.41      4397\n",
      "weighted avg       0.82      0.50      0.59      4397\n",
      "\n"
     ]
    }
   ],
   "source": [
    "from sklearn.utils import shuffle\n",
    "\n",
    "y_train_shuffled = shuffle(y_train_sm, random_state=42)\n",
    "clf.fit(X_train_sm, y_train_shuffled)\n",
    "y_pred = clf.predict(X_test)\n",
    "\n",
    "from sklearn.metrics import classification_report\n",
    "print(classification_report(y_test, y_pred))\n"
   ]
  },
  {
   "cell_type": "code",
   "execution_count": 51,
   "id": "a7d3fd6f",
   "metadata": {},
   "outputs": [
    {
     "name": "stdout",
     "output_type": "stream",
     "text": [
      "              precision    recall  f1-score   support\n",
      "\n",
      "           0       1.00      1.00      1.00      3941\n",
      "           1       1.00      1.00      1.00       456\n",
      "\n",
      "    accuracy                           1.00      4397\n",
      "   macro avg       1.00      1.00      1.00      4397\n",
      "weighted avg       1.00      1.00      1.00      4397\n",
      "\n"
     ]
    }
   ],
   "source": [
    "from sklearn.model_selection import train_test_split\n",
    "from imblearn.over_sampling import SMOTE\n",
    "from sklearn.ensemble import RandomForestClassifier\n",
    "from sklearn.preprocessing import StandardScaler\n",
    "from sklearn.metrics import classification_report\n",
    "\n",
    "# STEP 1: Select your features and label\n",
    "# X = df.drop('target_column', axis=1)\n",
    "# y = df['target_column']\n",
    "\n",
    "# STEP 2: Train-test split FIRST (prevents data leakage)\n",
    "X_train, X_test, y_train, y_test = train_test_split(\n",
    "    X, y, test_size=0.2, stratify=y, random_state=42\n",
    ")\n",
    "\n",
    "# STEP 3: Scale features (fit only on train)\n",
    "scaler = StandardScaler()\n",
    "X_train_scaled = scaler.fit_transform(X_train)\n",
    "X_test_scaled = scaler.transform(X_test)\n",
    "\n",
    "# STEP 4: SMOTE to balance classes (only on training set)\n",
    "smote = SMOTE(random_state=42)\n",
    "X_train_res, y_train_res = smote.fit_resample(X_train_scaled, y_train)\n",
    "\n",
    "# STEP 5: Train your model\n",
    "model = RandomForestClassifier(random_state=42)\n",
    "model.fit(X_train_res, y_train_res)\n",
    "\n",
    "# STEP 6: Evaluate on untouched test set\n",
    "y_pred = model.predict(X_test_scaled)\n",
    "print(classification_report(y_test, y_pred))\n"
   ]
  },
  {
   "cell_type": "code",
   "execution_count": 52,
   "id": "d4b8737a",
   "metadata": {},
   "outputs": [
    {
     "data": {
      "text/plain": [
       "<sklearn.metrics._plot.confusion_matrix.ConfusionMatrixDisplay at 0x2a838c32850>"
      ]
     },
     "execution_count": 52,
     "metadata": {},
     "output_type": "execute_result"
    },
    {
     "data": {
      "image/png": "[encoded data removed]",
      "text/plain": [
       "<Figure size 432x288 with 2 Axes>"
      ]
     },
     "metadata": {
      "needs_background": "light"
     },
     "output_type": "display_data"
    }
   ],
   "source": [
    "from sklearn.metrics import confusion_matrix, ConfusionMatrixDisplay\n",
    "\n",
    "cm = confusion_matrix(y_test, y_pred)\n",
    "disp = ConfusionMatrixDisplay(confusion_matrix=cm)\n",
    "disp.plot()"
   ]
  },
  {
   "cell_type": "code",
   "execution_count": 53,
   "id": "dc9fc552",
   "metadata": {},
   "outputs": [
    {
     "data": {
      "image/png": "[encoded data removed]",
      "text/plain": [
       "<Figure size 864x432 with 1 Axes>"
      ]
     },
     "metadata": {
      "needs_background": "light"
     },
     "output_type": "display_data"
    }
   ],
   "source": [
    "import matplotlib.pyplot as plt\n",
    "import numpy as np\n",
    "\n",
    "importances = model.feature_importances_\n",
    "indices = np.argsort(importances)[::-1]\n",
    "\n",
    "plt.figure(figsize=(12, 6))\n",
    "plt.title(\"Feature Importances\")\n",
    "plt.bar(range(X.shape[1]), importances[indices])\n",
    "plt.xticks(range(X.shape[1]), X.columns[indices], rotation=90)\n",
    "plt.tight_layout()\n",
    "plt.show()\n"
   ]
  },
  {
   "cell_type": "code",
   "execution_count": 54,
   "id": "2bc52933",
   "metadata": {},
   "outputs": [
    {
     "name": "stdout",
     "output_type": "stream",
     "text": [
      "Cross-validated F1 scores: [0.99968289 1.         1.         1.         0.99968284]\n",
      "Mean F1: 0.9998731467445774\n"
     ]
    }
   ],
   "source": [
    "from sklearn.model_selection import cross_val_score\n",
    "\n",
    "scores = cross_val_score(model, X_train_res, y_train_res, cv=5, scoring='f1_macro')\n",
    "print(\"Cross-validated F1 scores:\", scores)\n",
    "print(\"Mean F1:\", scores.mean())\n"
   ]
  },
  {
   "cell_type": "code",
   "execution_count": 56,
   "id": "dafdb63d",
   "metadata": {},
   "outputs": [
    {
     "data": {
      "image/png": "[encoded data removed]",
      "text/plain": [
       "<Figure size 432x288 with 1 Axes>"
      ]
     },
     "metadata": {
      "needs_background": "light"
     },
     "output_type": "display_data"
    },
    {
     "data": {
      "image/png": "[encoded data removed]",
      "text/plain": [
       "<Figure size 432x288 with 1 Axes>"
      ]
     },
     "metadata": {
      "needs_background": "light"
     },
     "output_type": "display_data"
    }
   ],
   "source": [
    "import seaborn as sns\n",
    "import matplotlib.pyplot as plt\n",
    "\n",
    "plt.figure(figsize=(6,4))\n",
    "sns.countplot(x=y_train, palette='Set2')\n",
    "plt.title('Class Distribution Before Sampling')\n",
    "plt.xlabel('Class')\n",
    "plt.ylabel('Count')\n",
    "plt.show()\n",
    "\n",
    "plt.figure(figsize=(6,4))\n",
    "sns.countplot(x=y_train_sm, palette='Set1')\n",
    "plt.title('Class Distribution After Sampling')\n",
    "plt.xlabel('Class')\n",
    "plt.ylabel('Count')\n",
    "plt.show()\n"
   ]
  },
  {
   "cell_type": "code",
   "execution_count": 57,
   "id": "5fec365c",
   "metadata": {},
   "outputs": [
    {
     "name": "stderr",
     "output_type": "stream",
     "text": [
      "C:\\Users\\ASUS\\Anaconda3\\lib\\site-packages\\sklearn\\base.py:486: UserWarning: X has feature names, but RandomForestClassifier was fitted without feature names\n",
      "  warnings.warn(\n"
     ]
    },
    {
     "data": {
      "image/png": "[encoded data removed]",
      "text/plain": [
       "<Figure size 432x288 with 1 Axes>"
      ]
     },
     "metadata": {
      "needs_background": "light"
     },
     "output_type": "display_data"
    },
    {
     "data": {
      "image/png": "[encoded data removed]",
      "text/plain": [
       "<Figure size 432x288 with 1 Axes>"
      ]
     },
     "metadata": {
      "needs_background": "light"
     },
     "output_type": "display_data"
    }
   ],
   "source": [
    "from sklearn.metrics import roc_curve, auc, precision_recall_curve, average_precision_score\n",
    "\n",
    "y_probs = model.predict_proba(X_test)[:,1]  \n",
    "\n",
    "fpr, tpr, _ = roc_curve(y_test, y_probs)\n",
    "roc_auc = auc(fpr, tpr)\n",
    "\n",
    "plt.figure(figsize=(6,4))\n",
    "plt.plot(fpr, tpr, color='darkorange', label=f'ROC Curve (AUC = {roc_auc:.2f})')\n",
    "plt.plot([0, 1], [0, 1], color='navy', linestyle='--')\n",
    "plt.title('ROC Curve')\n",
    "plt.xlabel('False Positive Rate')\n",
    "plt.ylabel('True Positive Rate')\n",
    "plt.legend(loc=\"lower right\")\n",
    "plt.grid(True)\n",
    "plt.show()\n",
    "\n",
    "precision, recall, _ = precision_recall_curve(y_test, y_probs)\n",
    "avg_precision = average_precision_score(y_test, y_probs)\n",
    "\n",
    "plt.figure(figsize=(6,4))\n",
    "plt.plot(recall, precision, label=f'PR Curve (AP = {avg_precision:.2f})', color='green')\n",
    "plt.title('Precision-Recall Curve')\n",
    "plt.xlabel('Recall')\n",
    "plt.ylabel('Precision')\n",
    "plt.legend(loc=\"upper right\")\n",
    "plt.grid(True)\n",
    "plt.show()\n"
   ]
  },
  {
   "cell_type": "code",
   "execution_count": 60,
   "id": "a2613865",
   "metadata": {},
   "outputs": [
    {
     "name": "stdout",
     "output_type": "stream",
     "text": [
      "              precision    recall  f1-score   support\n",
      "\n",
      "           0       1.00      1.00      1.00      3941\n",
      "           1       0.99      1.00      0.99       456\n",
      "\n",
      "    accuracy                           1.00      4397\n",
      "   macro avg       1.00      1.00      1.00      4397\n",
      "weighted avg       1.00      1.00      1.00      4397\n",
      "\n",
      "AUC Score: 0.9999348949638751\n"
     ]
    }
   ],
   "source": [
    "from xgboost import XGBClassifier\n",
    "import numpy as np\n",
    "\n",
    "# Calculate class weight ratio: (number of 0s) / (number of 1s)\n",
    "neg, pos = np.bincount(y_train)\n",
    "class_weight_ratio = neg / pos\n",
    "\n",
    "# Now pass it to XGBClassifier\n",
    "model = XGBClassifier(scale_pos_weight=class_weight_ratio, random_state=42)\n",
    "model.fit(X_train, y_train)\n",
    "y_pred_xgb = model.predict(X_test)\n",
    "\n",
    "# Evaluation\n",
    "from sklearn.metrics import classification_report, roc_auc_score\n",
    "\n",
    "print(classification_report(y_test, y_pred_xgb))\n",
    "print(\"AUC Score:\", roc_auc_score(y_test, xgb.predict_proba(X_test)[:, 1]))\n"
   ]
  },
  {
   "cell_type": "code",
   "execution_count": 61,
   "id": "fc865a2c",
   "metadata": {},
   "outputs": [
    {
     "data": {
      "image/png": "[encoded data removed]",
      "text/plain": [
       "<Figure size 432x288 with 1 Axes>"
      ]
     },
     "metadata": {
      "needs_background": "light"
     },
     "output_type": "display_data"
    },
    {
     "data": {
      "image/png": "[encoded data removed]",
      "text/plain": [
       "<Figure size 432x288 with 1 Axes>"
      ]
     },
     "metadata": {
      "needs_background": "light"
     },
     "output_type": "display_data"
    }
   ],
   "source": [
    "from sklearn.metrics import roc_curve, auc, precision_recall_curve, average_precision_score\n",
    "\n",
    "y_probs = model.predict_proba(X_test)[:,1]  \n",
    "\n",
    "fpr, tpr, _ = roc_curve(y_test, y_probs)\n",
    "roc_auc = auc(fpr, tpr)\n",
    "\n",
    "plt.figure(figsize=(6,4))\n",
    "plt.plot(fpr, tpr, color='darkorange', label=f'ROC Curve (AUC = {roc_auc:.2f})')\n",
    "plt.plot([0, 1], [0, 1], color='navy', linestyle='--')\n",
    "plt.title('ROC Curve')\n",
    "plt.xlabel('False Positive Rate')\n",
    "plt.ylabel('True Positive Rate')\n",
    "plt.legend(loc=\"lower right\")\n",
    "plt.grid(True)\n",
    "plt.show()\n",
    "\n",
    "precision, recall, _ = precision_recall_curve(y_test, y_probs)\n",
    "avg_precision = average_precision_score(y_test, y_probs)\n",
    "\n",
    "plt.figure(figsize=(6,4))\n",
    "plt.plot(recall, precision, label=f'PR Curve (AP = {avg_precision:.2f})', color='green')\n",
    "plt.title('Precision-Recall Curve')\n",
    "plt.xlabel('Recall')\n",
    "plt.ylabel('Precision')\n",
    "plt.legend(loc=\"upper right\")\n",
    "plt.grid(True)\n",
    "plt.show()\n"
   ]
  },
  {
   "cell_type": "code",
   "execution_count": 63,
   "id": "22bb3ac0",
   "metadata": {},
   "outputs": [
    {
     "name": "stdout",
     "output_type": "stream",
     "text": [
      "              precision    recall  f1-score   support\n",
      "\n",
      "           0       0.98      0.80      0.88      3941\n",
      "           1       0.34      0.88      0.49       456\n",
      "\n",
      "    accuracy                           0.81      4397\n",
      "   macro avg       0.66      0.84      0.69      4397\n",
      "weighted avg       0.92      0.81      0.84      4397\n",
      "\n"
     ]
    },
    {
     "name": "stderr",
     "output_type": "stream",
     "text": [
      "C:\\Users\\ASUS\\Anaconda3\\lib\\site-packages\\sklearn\\linear_model\\_logistic.py:469: ConvergenceWarning: lbfgs failed to converge (status=1):\n",
      "STOP: TOTAL NO. of ITERATIONS REACHED LIMIT.\n",
      "\n",
      "Increase the number of iterations (max_iter) or scale the data as shown in:\n",
      "    https://scikit-learn.org/stable/modules/preprocessing.html\n",
      "Please also refer to the documentation for alternative solver options:\n",
      "    https://scikit-learn.org/stable/modules/linear_model.html#logistic-regression\n",
      "  n_iter_i = _check_optimize_result(\n"
     ]
    }
   ],
   "source": [
    "from sklearn.linear_model import LogisticRegression\n",
    "\n",
    "logreg = LogisticRegression(class_weight='balanced', max_iter=1000)\n",
    "logreg.fit(X_train, y_train)\n",
    "y_pred_lr = logreg.predict(X_test)\n",
    "\n",
    "from sklearn.metrics import classification_report\n",
    "print(classification_report(y_test, y_pred_lr))\n"
   ]
  },
  {
   "cell_type": "code",
   "execution_count": 2,
   "id": "f69c662e",
   "metadata": {},
   "outputs": [
    {
     "data": {
      "text/html": [
       "<div>\n",
       "<style scoped>\n",
       "    .dataframe tbody tr th:only-of-type {\n",
       "        vertical-align: middle;\n",
       "    }\n",
       "\n",
       "    .dataframe tbody tr th {\n",
       "        vertical-align: top;\n",
       "    }\n",
       "\n",
       "    .dataframe thead th {\n",
       "        text-align: right;\n",
       "    }\n",
       "</style>\n",
       "<table border=\"1\" class=\"dataframe\">\n",
       "  <thead>\n",
       "    <tr style=\"text-align: right;\">\n",
       "      <th></th>\n",
       "      <th>pl_name</th>\n",
       "      <th>pl_rade</th>\n",
       "      <th>pl_bmasse</th>\n",
       "      <th>pl_eqt</th>\n",
       "      <th>pl_orbper</th>\n",
       "      <th>st_teff</th>\n",
       "      <th>st_rad</th>\n",
       "      <th>st_mass</th>\n",
       "      <th>sy_dist</th>\n",
       "    </tr>\n",
       "  </thead>\n",
       "  <tbody>\n",
       "    <tr>\n",
       "      <th>0</th>\n",
       "      <td>OGLE-2016-BLG-1227L b</td>\n",
       "      <td>13.90</td>\n",
       "      <td>250.000000</td>\n",
       "      <td>NaN</td>\n",
       "      <td>NaN</td>\n",
       "      <td>NaN</td>\n",
       "      <td>NaN</td>\n",
       "      <td>0.100</td>\n",
       "      <td>NaN</td>\n",
       "    </tr>\n",
       "    <tr>\n",
       "      <th>1</th>\n",
       "      <td>Kepler-24 e</td>\n",
       "      <td>2.78</td>\n",
       "      <td>8.150000</td>\n",
       "      <td>792.0</td>\n",
       "      <td>18.998355</td>\n",
       "      <td>5897.0</td>\n",
       "      <td>1.289</td>\n",
       "      <td>1.046</td>\n",
       "      <td>1156.8100</td>\n",
       "    </tr>\n",
       "    <tr>\n",
       "      <th>2</th>\n",
       "      <td>Kepler-1065 b</td>\n",
       "      <td>3.73</td>\n",
       "      <td>13.400000</td>\n",
       "      <td>1092.0</td>\n",
       "      <td>3.609309</td>\n",
       "      <td>5635.0</td>\n",
       "      <td>0.930</td>\n",
       "      <td>0.940</td>\n",
       "      <td>1122.4800</td>\n",
       "    </tr>\n",
       "    <tr>\n",
       "      <th>3</th>\n",
       "      <td>HD 132406 b</td>\n",
       "      <td>12.80</td>\n",
       "      <td>1887.900738</td>\n",
       "      <td>NaN</td>\n",
       "      <td>908.000000</td>\n",
       "      <td>5766.0</td>\n",
       "      <td>1.340</td>\n",
       "      <td>0.973</td>\n",
       "      <td>70.7832</td>\n",
       "    </tr>\n",
       "    <tr>\n",
       "      <th>4</th>\n",
       "      <td>TOI-1260 c</td>\n",
       "      <td>2.76</td>\n",
       "      <td>13.200000</td>\n",
       "      <td>651.0</td>\n",
       "      <td>7.493134</td>\n",
       "      <td>4227.0</td>\n",
       "      <td>0.672</td>\n",
       "      <td>0.679</td>\n",
       "      <td>73.5977</td>\n",
       "    </tr>\n",
       "  </tbody>\n",
       "</table>\n",
       "</div>"
      ],
      "text/plain": [
       "                 pl_name  pl_rade    pl_bmasse  pl_eqt   pl_orbper  st_teff  \\\n",
       "0  OGLE-2016-BLG-1227L b    13.90   250.000000     NaN         NaN      NaN   \n",
       "1            Kepler-24 e     2.78     8.150000   792.0   18.998355   5897.0   \n",
       "2          Kepler-1065 b     3.73    13.400000  1092.0    3.609309   5635.0   \n",
       "3            HD 132406 b    12.80  1887.900738     NaN  908.000000   5766.0   \n",
       "4             TOI-1260 c     2.76    13.200000   651.0    7.493134   4227.0   \n",
       "\n",
       "   st_rad  st_mass    sy_dist  \n",
       "0     NaN    0.100        NaN  \n",
       "1   1.289    1.046  1156.8100  \n",
       "2   0.930    0.940  1122.4800  \n",
       "3   1.340    0.973    70.7832  \n",
       "4   0.672    0.679    73.5977  "
      ]
     },
     "execution_count": 2,
     "metadata": {},
     "output_type": "execute_result"
    }
   ],
   "source": [
    "import pandas as pd\n",
    "\n",
    "url = \"https://exoplanetarchive.ipac.caltech.edu/TAP/sync?query=select+pl_name,pl_rade,pl_bmasse,pl_eqt,pl_orbper,st_teff,st_rad,st_mass,sy_dist+from+pscomppars&format=csv\"\n",
    "df = pd.read_csv(url)\n",
    "df.to_csv(\"exoplanet_data.csv\", index=False)\n",
    "df.head()"
   ]
  },
  {
   "cell_type": "code",
   "execution_count": 3,
   "id": "684d24f8",
   "metadata": {},
   "outputs": [
    {
     "data": {
      "text/plain": [
       "(5869, 9)"
      ]
     },
     "execution_count": 3,
     "metadata": {},
     "output_type": "execute_result"
    }
   ],
   "source": [
    "df.shape"
   ]
  },
  {
   "cell_type": "code",
   "execution_count": 4,
   "id": "41856502",
   "metadata": {},
   "outputs": [
    {
     "data": {
      "text/plain": [
       "pl_name       0.000000\n",
       "pl_rade       0.374851\n",
       "pl_bmasse     0.528199\n",
       "pl_eqt       25.626171\n",
       "pl_orbper     4.924178\n",
       "st_teff       4.276708\n",
       "st_rad        4.651559\n",
       "st_mass       0.119271\n",
       "sy_dist       0.425967\n",
       "dtype: float64"
      ]
     },
     "execution_count": 4,
     "metadata": {},
     "output_type": "execute_result"
    }
   ],
   "source": [
    "(df.isnull().sum()/len(df))*100"
   ]
  },
  {
   "cell_type": "code",
   "execution_count": 5,
   "id": "0f994848",
   "metadata": {},
   "outputs": [
    {
     "name": "stdout",
     "output_type": "stream",
     "text": [
      "<class 'pandas.core.frame.DataFrame'>\n",
      "RangeIndex: 5869 entries, 0 to 5868\n",
      "Data columns (total 9 columns):\n",
      " #   Column     Non-Null Count  Dtype  \n",
      "---  ------     --------------  -----  \n",
      " 0   pl_name    5869 non-null   object \n",
      " 1   pl_rade    5847 non-null   float64\n",
      " 2   pl_bmasse  5838 non-null   float64\n",
      " 3   pl_eqt     4365 non-null   float64\n",
      " 4   pl_orbper  5580 non-null   float64\n",
      " 5   st_teff    5618 non-null   float64\n",
      " 6   st_rad     5596 non-null   float64\n",
      " 7   st_mass    5862 non-null   float64\n",
      " 8   sy_dist    5844 non-null   float64\n",
      "dtypes: float64(8), object(1)\n",
      "memory usage: 412.8+ KB\n"
     ]
    }
   ],
   "source": [
    "df.info()"
   ]
  },
  {
   "cell_type": "code",
   "execution_count": 6,
   "id": "79444534",
   "metadata": {},
   "outputs": [],
   "source": [
    "df[\"pl_eqt\"].fillna(df[\"pl_eqt\"].median(), inplace=True)"
   ]
  },
  {
   "cell_type": "code",
   "execution_count": 7,
   "id": "6e3c9c3c",
   "metadata": {},
   "outputs": [
    {
     "data": {
      "text/plain": [
       "pl_name      0.000000\n",
       "pl_rade      0.374851\n",
       "pl_bmasse    0.528199\n",
       "pl_eqt       0.000000\n",
       "pl_orbper    4.924178\n",
       "st_teff      4.276708\n",
       "st_rad       4.651559\n",
       "st_mass      0.119271\n",
       "sy_dist      0.425967\n",
       "dtype: float64"
      ]
     },
     "execution_count": 7,
     "metadata": {},
     "output_type": "execute_result"
    }
   ],
   "source": [
    "(df.isnull().sum()/len(df))*100"
   ]
  },
  {
   "cell_type": "code",
   "execution_count": 8,
   "id": "a716aa3c",
   "metadata": {},
   "outputs": [],
   "source": [
    "df.dropna(inplace=True)"
   ]
  },
  {
   "cell_type": "code",
   "execution_count": 9,
   "id": "a28248ba",
   "metadata": {},
   "outputs": [
    {
     "data": {
      "text/plain": [
       "(5486, 9)"
      ]
     },
     "execution_count": 9,
     "metadata": {},
     "output_type": "execute_result"
    }
   ],
   "source": [
    "df.shape"
   ]
  },
  {
   "cell_type": "code",
   "execution_count": 10,
   "id": "e0a24638",
   "metadata": {
    "scrolled": false
   },
   "outputs": [
    {
     "data": {
      "image/png": "[encoded data removed]",
      "text/plain": [
       "<Figure size 432x288 with 1 Axes>"
      ]
     },
     "metadata": {
      "needs_background": "light"
     },
     "output_type": "display_data"
    },
    {
     "data": {
      "image/png": "[encoded data removed]",
      "text/plain": [
       "<Figure size 432x288 with 1 Axes>"
      ]
     },
     "metadata": {
      "needs_background": "light"
     },
     "output_type": "display_data"
    },
    {
     "data": {
      "image/png": "[encoded data removed]",
      "text/plain": [
       "<Figure size 432x288 with 1 Axes>"
      ]
     },
     "metadata": {
      "needs_background": "light"
     },
     "output_type": "display_data"
    },
    {
     "data": {
      "image/png": "[encoded data removed]",
      "text/plain": [
       "<Figure size 432x288 with 1 Axes>"
      ]
     },
     "metadata": {
      "needs_background": "light"
     },
     "output_type": "display_data"
    },
    {
     "data": {
      "image/png": "[encoded data removed]",
      "text/plain": [
       "<Figure size 432x288 with 1 Axes>"
      ]
     },
     "metadata": {
      "needs_background": "light"
     },
     "output_type": "display_data"
    },
    {
     "data": {
      "image/png": "[encoded data removed]",
      "text/plain": [
       "<Figure size 432x288 with 1 Axes>"
      ]
     },
     "metadata": {
      "needs_background": "light"
     },
     "output_type": "display_data"
    },
    {
     "data": {
      "image/png": "[encoded data removed]",
      "text/plain": [
       "<Figure size 432x288 with 1 Axes>"
      ]
     },
     "metadata": {
      "needs_background": "light"
     },
     "output_type": "display_data"
    },
    {
     "data": {
      "image/png": "[encoded data removed]",
      "text/plain": [
       "<Figure size 432x288 with 1 Axes>"
      ]
     },
     "metadata": {
      "needs_background": "light"
     },
     "output_type": "display_data"
    }
   ],
   "source": [
    "import matplotlib.pyplot as plt\n",
    "import seaborn as sns\n",
    "\n",
    "for i in df.columns[1:]:\n",
    "    df[i].plot(kind=\"box\")\n",
    "    plt.show()"
   ]
  },
  {
   "cell_type": "code",
   "execution_count": 12,
   "id": "72beb1e3",
   "metadata": {},
   "outputs": [
    {
     "data": {
      "text/plain": [
       "<AxesSubplot:>"
      ]
     },
     "execution_count": 12,
     "metadata": {},
     "output_type": "execute_result"
    },
    {
     "data": {
      "image/png": "[encoded data removed]",
      "text/plain": [
       "<Figure size 432x288 with 2 Axes>"
      ]
     },
     "metadata": {
      "needs_background": "light"
     },
     "output_type": "display_data"
    }
   ],
   "source": [
    "sns.heatmap(data=df.corr(), annot=True, cmap=\"coolwarm\")"
   ]
  },
  {
   "cell_type": "code",
   "execution_count": null,
   "id": "f48c568a",
   "metadata": {},
   "outputs": [],
   "source": []
  }
 ],
 "metadata": {
  "kernelspec": {
   "display_name": "Python 3 (ipykernel)",
   "language": "python",
   "name": "python3"
  },
  "language_info": {
   "codemirror_mode": {
    "name": "ipython",
    "version": 3
   },
   "file_extension": ".py",
   "mimetype": "text/x-python",
   "name": "python",
   "nbconvert_exporter": "python",
   "pygments_lexer": "ipython3",
   "version": "3.9.12"
  }
 },
 "nbformat": 4,
 "nbformat_minor": 5
}
