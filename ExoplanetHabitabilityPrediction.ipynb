{
 "cells": [
  {
   "cell_type": "code",
   "execution_count": 1,
   "id": "8b02a927",
   "metadata": {},
   "outputs": [],
   "source": [
    "import pandas as pd\n",
    "import matplotlib.pyplot as plt\n",
    "import seaborn as sns"
   ]
  },
  {
   "cell_type": "code",
   "execution_count": 2,
   "id": "e477d56f",
   "metadata": {},
   "outputs": [
    {
     "data": {
      "text/html": [
       "<div>\n",
       "<style scoped>\n",
       "    .dataframe tbody tr th:only-of-type {\n",
       "        vertical-align: middle;\n",
       "    }\n",
       "\n",
       "    .dataframe tbody tr th {\n",
       "        vertical-align: top;\n",
       "    }\n",
       "\n",
       "    .dataframe thead th {\n",
       "        text-align: right;\n",
       "    }\n",
       "</style>\n",
       "<table border=\"1\" class=\"dataframe\">\n",
       "  <thead>\n",
       "    <tr style=\"text-align: right;\">\n",
       "      <th></th>\n",
       "      <th>pl_name</th>\n",
       "      <th>hostname</th>\n",
       "      <th>default_flag</th>\n",
       "      <th>sy_snum</th>\n",
       "      <th>sy_pnum</th>\n",
       "      <th>discoverymethod</th>\n",
       "      <th>disc_year</th>\n",
       "      <th>disc_facility</th>\n",
       "      <th>soltype</th>\n",
       "      <th>pl_controv_flag</th>\n",
       "      <th>...</th>\n",
       "      <th>sy_vmagerr2</th>\n",
       "      <th>sy_kmag</th>\n",
       "      <th>sy_kmagerr1</th>\n",
       "      <th>sy_kmagerr2</th>\n",
       "      <th>sy_gaiamag</th>\n",
       "      <th>sy_gaiamagerr1</th>\n",
       "      <th>sy_gaiamagerr2</th>\n",
       "      <th>rowupdate</th>\n",
       "      <th>pl_pubdate</th>\n",
       "      <th>releasedate</th>\n",
       "    </tr>\n",
       "  </thead>\n",
       "  <tbody>\n",
       "    <tr>\n",
       "      <th>0</th>\n",
       "      <td>11 Com b</td>\n",
       "      <td>11 Com</td>\n",
       "      <td>0</td>\n",
       "      <td>2</td>\n",
       "      <td>1</td>\n",
       "      <td>Radial Velocity</td>\n",
       "      <td>2007</td>\n",
       "      <td>Xinglong Station</td>\n",
       "      <td>Published Confirmed</td>\n",
       "      <td>0</td>\n",
       "      <td>...</td>\n",
       "      <td>-0.023</td>\n",
       "      <td>2.282</td>\n",
       "      <td>0.346</td>\n",
       "      <td>-0.346</td>\n",
       "      <td>4.44038</td>\n",
       "      <td>0.003848</td>\n",
       "      <td>-0.003848</td>\n",
       "      <td>5/14/2014</td>\n",
       "      <td>2008-01</td>\n",
       "      <td>5/14/2014</td>\n",
       "    </tr>\n",
       "    <tr>\n",
       "      <th>1</th>\n",
       "      <td>11 Com b</td>\n",
       "      <td>11 Com</td>\n",
       "      <td>0</td>\n",
       "      <td>2</td>\n",
       "      <td>1</td>\n",
       "      <td>Radial Velocity</td>\n",
       "      <td>2007</td>\n",
       "      <td>Xinglong Station</td>\n",
       "      <td>Published Confirmed</td>\n",
       "      <td>0</td>\n",
       "      <td>...</td>\n",
       "      <td>-0.023</td>\n",
       "      <td>2.282</td>\n",
       "      <td>0.346</td>\n",
       "      <td>-0.346</td>\n",
       "      <td>4.44038</td>\n",
       "      <td>0.003848</td>\n",
       "      <td>-0.003848</td>\n",
       "      <td>7/23/2014</td>\n",
       "      <td>2011-08</td>\n",
       "      <td>7/23/2014</td>\n",
       "    </tr>\n",
       "    <tr>\n",
       "      <th>2</th>\n",
       "      <td>11 Com b</td>\n",
       "      <td>11 Com</td>\n",
       "      <td>1</td>\n",
       "      <td>2</td>\n",
       "      <td>1</td>\n",
       "      <td>Radial Velocity</td>\n",
       "      <td>2007</td>\n",
       "      <td>Xinglong Station</td>\n",
       "      <td>Published Confirmed</td>\n",
       "      <td>0</td>\n",
       "      <td>...</td>\n",
       "      <td>-0.023</td>\n",
       "      <td>2.282</td>\n",
       "      <td>0.346</td>\n",
       "      <td>-0.346</td>\n",
       "      <td>4.44038</td>\n",
       "      <td>0.003848</td>\n",
       "      <td>-0.003848</td>\n",
       "      <td>9/19/2023</td>\n",
       "      <td>2023-08</td>\n",
       "      <td>9/19/2023</td>\n",
       "    </tr>\n",
       "    <tr>\n",
       "      <th>3</th>\n",
       "      <td>11 UMi b</td>\n",
       "      <td>11 UMi</td>\n",
       "      <td>1</td>\n",
       "      <td>1</td>\n",
       "      <td>1</td>\n",
       "      <td>Radial Velocity</td>\n",
       "      <td>2009</td>\n",
       "      <td>Thueringer Landessternwarte Tautenburg</td>\n",
       "      <td>Published Confirmed</td>\n",
       "      <td>0</td>\n",
       "      <td>...</td>\n",
       "      <td>-0.005</td>\n",
       "      <td>1.939</td>\n",
       "      <td>0.270</td>\n",
       "      <td>-0.270</td>\n",
       "      <td>4.56216</td>\n",
       "      <td>0.003903</td>\n",
       "      <td>-0.003903</td>\n",
       "      <td>9/4/2018</td>\n",
       "      <td>2017-03</td>\n",
       "      <td>9/6/2018</td>\n",
       "    </tr>\n",
       "    <tr>\n",
       "      <th>4</th>\n",
       "      <td>11 UMi b</td>\n",
       "      <td>11 UMi</td>\n",
       "      <td>0</td>\n",
       "      <td>1</td>\n",
       "      <td>1</td>\n",
       "      <td>Radial Velocity</td>\n",
       "      <td>2009</td>\n",
       "      <td>Thueringer Landessternwarte Tautenburg</td>\n",
       "      <td>Published Confirmed</td>\n",
       "      <td>0</td>\n",
       "      <td>...</td>\n",
       "      <td>-0.005</td>\n",
       "      <td>1.939</td>\n",
       "      <td>0.270</td>\n",
       "      <td>-0.270</td>\n",
       "      <td>4.56216</td>\n",
       "      <td>0.003903</td>\n",
       "      <td>-0.003903</td>\n",
       "      <td>4/25/2018</td>\n",
       "      <td>2009-10</td>\n",
       "      <td>5/14/2014</td>\n",
       "    </tr>\n",
       "  </tbody>\n",
       "</table>\n",
       "<p>5 rows × 92 columns</p>\n",
       "</div>"
      ],
      "text/plain": [
       "    pl_name hostname  default_flag  sy_snum  sy_pnum  discoverymethod  \\\n",
       "0  11 Com b   11 Com             0        2        1  Radial Velocity   \n",
       "1  11 Com b   11 Com             0        2        1  Radial Velocity   \n",
       "2  11 Com b   11 Com             1        2        1  Radial Velocity   \n",
       "3  11 UMi b   11 UMi             1        1        1  Radial Velocity   \n",
       "4  11 UMi b   11 UMi             0        1        1  Radial Velocity   \n",
       "\n",
       "   disc_year                           disc_facility              soltype  \\\n",
       "0       2007                        Xinglong Station  Published Confirmed   \n",
       "1       2007                        Xinglong Station  Published Confirmed   \n",
       "2       2007                        Xinglong Station  Published Confirmed   \n",
       "3       2009  Thueringer Landessternwarte Tautenburg  Published Confirmed   \n",
       "4       2009  Thueringer Landessternwarte Tautenburg  Published Confirmed   \n",
       "\n",
       "   pl_controv_flag  ... sy_vmagerr2  sy_kmag  sy_kmagerr1  sy_kmagerr2  \\\n",
       "0                0  ...      -0.023    2.282        0.346       -0.346   \n",
       "1                0  ...      -0.023    2.282        0.346       -0.346   \n",
       "2                0  ...      -0.023    2.282        0.346       -0.346   \n",
       "3                0  ...      -0.005    1.939        0.270       -0.270   \n",
       "4                0  ...      -0.005    1.939        0.270       -0.270   \n",
       "\n",
       "   sy_gaiamag  sy_gaiamagerr1  sy_gaiamagerr2  rowupdate  pl_pubdate  \\\n",
       "0     4.44038        0.003848       -0.003848  5/14/2014     2008-01   \n",
       "1     4.44038        0.003848       -0.003848  7/23/2014     2011-08   \n",
       "2     4.44038        0.003848       -0.003848  9/19/2023     2023-08   \n",
       "3     4.56216        0.003903       -0.003903   9/4/2018     2017-03   \n",
       "4     4.56216        0.003903       -0.003903  4/25/2018     2009-10   \n",
       "\n",
       "   releasedate  \n",
       "0    5/14/2014  \n",
       "1    7/23/2014  \n",
       "2    9/19/2023  \n",
       "3     9/6/2018  \n",
       "4    5/14/2014  \n",
       "\n",
       "[5 rows x 92 columns]"
      ]
     },
     "execution_count": 2,
     "metadata": {},
     "output_type": "execute_result"
    }
   ],
   "source": [
    "df = pd.read_csv(\"ExoplanetHabitabilityData.csv\")\n",
    "df.head()"
   ]
  },
  {
   "cell_type": "code",
   "execution_count": 3,
   "id": "fe6610b3",
   "metadata": {},
   "outputs": [
    {
     "data": {
      "text/plain": [
       "Index(['pl_name', 'hostname', 'default_flag', 'sy_snum', 'sy_pnum',\n",
       "       'discoverymethod', 'disc_year', 'disc_facility', 'soltype',\n",
       "       'pl_controv_flag', 'pl_refname', 'pl_orbper', 'pl_orbpererr1',\n",
       "       'pl_orbpererr2', 'pl_orbperlim', 'pl_orbsmax', 'pl_orbsmaxerr1',\n",
       "       'pl_orbsmaxerr2', 'pl_orbsmaxlim', 'pl_rade', 'pl_radeerr1',\n",
       "       'pl_radeerr2', 'pl_radelim', 'pl_radj', 'pl_radjerr1', 'pl_radjerr2',\n",
       "       'pl_radjlim', 'pl_bmasse', 'pl_bmasseerr1', 'pl_bmasseerr2',\n",
       "       'pl_bmasselim', 'pl_bmassj', 'pl_bmassjerr1', 'pl_bmassjerr2',\n",
       "       'pl_bmassjlim', 'pl_bmassprov', 'pl_orbeccen', 'pl_orbeccenerr1',\n",
       "       'pl_orbeccenerr2', 'pl_orbeccenlim', 'pl_insol', 'pl_insolerr1',\n",
       "       'pl_insolerr2', 'pl_insollim', 'pl_eqt', 'pl_eqterr1', 'pl_eqterr2',\n",
       "       'pl_eqtlim', 'ttv_flag', 'st_refname', 'st_spectype', 'st_teff',\n",
       "       'st_tefferr1', 'st_tefferr2', 'st_tefflim', 'st_rad', 'st_raderr1',\n",
       "       'st_raderr2', 'st_radlim', 'st_mass', 'st_masserr1', 'st_masserr2',\n",
       "       'st_masslim', 'st_met', 'st_meterr1', 'st_meterr2', 'st_metlim',\n",
       "       'st_metratio', 'st_logg', 'st_loggerr1', 'st_loggerr2', 'st_logglim',\n",
       "       'sy_refname', 'rastr', 'ra', 'decstr', 'dec', 'sy_dist', 'sy_disterr1',\n",
       "       'sy_disterr2', 'sy_vmag', 'sy_vmagerr1', 'sy_vmagerr2', 'sy_kmag',\n",
       "       'sy_kmagerr1', 'sy_kmagerr2', 'sy_gaiamag', 'sy_gaiamagerr1',\n",
       "       'sy_gaiamagerr2', 'rowupdate', 'pl_pubdate', 'releasedate'],\n",
       "      dtype='object')"
      ]
     },
     "execution_count": 3,
     "metadata": {},
     "output_type": "execute_result"
    }
   ],
   "source": [
    "df.columns"
   ]
  },
  {
   "cell_type": "code",
   "execution_count": 4,
   "id": "a50a99f4",
   "metadata": {},
   "outputs": [
    {
     "name": "stdout",
     "output_type": "stream",
     "text": [
      "<class 'pandas.core.frame.DataFrame'>\n",
      "RangeIndex: 38095 entries, 0 to 38094\n",
      "Data columns (total 92 columns):\n",
      " #   Column           Non-Null Count  Dtype  \n",
      "---  ------           --------------  -----  \n",
      " 0   pl_name          38095 non-null  object \n",
      " 1   hostname         38095 non-null  object \n",
      " 2   default_flag     38095 non-null  int64  \n",
      " 3   sy_snum          38095 non-null  int64  \n",
      " 4   sy_pnum          38095 non-null  int64  \n",
      " 5   discoverymethod  38095 non-null  object \n",
      " 6   disc_year        38095 non-null  int64  \n",
      " 7   disc_facility    38095 non-null  object \n",
      " 8   soltype          38095 non-null  object \n",
      " 9   pl_controv_flag  38095 non-null  int64  \n",
      " 10  pl_refname       38095 non-null  object \n",
      " 11  pl_orbper        34909 non-null  float64\n",
      " 12  pl_orbpererr1    33367 non-null  float64\n",
      " 13  pl_orbpererr2    33366 non-null  float64\n",
      " 14  pl_orbperlim     34909 non-null  float64\n",
      " 15  pl_orbsmax       21539 non-null  float64\n",
      " 16  pl_orbsmaxerr1   7078 non-null   float64\n",
      " 17  pl_orbsmaxerr2   7077 non-null   float64\n",
      " 18  pl_orbsmaxlim    24323 non-null  float64\n",
      " 19  pl_rade          26417 non-null  float64\n",
      " 20  pl_radeerr1      25689 non-null  float64\n",
      " 21  pl_radeerr2      25689 non-null  float64\n",
      " 22  pl_radelim       29160 non-null  float64\n",
      " 23  pl_radj          26417 non-null  float64\n",
      " 24  pl_radjerr1      25689 non-null  float64\n",
      " 25  pl_radjerr2      25689 non-null  float64\n",
      " 26  pl_radjlim       26417 non-null  float64\n",
      " 27  pl_bmasse        6335 non-null   float64\n",
      " 28  pl_bmasseerr1    5807 non-null   float64\n",
      " 29  pl_bmasseerr2    5807 non-null   float64\n",
      " 30  pl_bmasselim     6335 non-null   float64\n",
      " 31  pl_bmassj        6334 non-null   float64\n",
      " 32  pl_bmassjerr1    5801 non-null   float64\n",
      " 33  pl_bmassjerr2    5801 non-null   float64\n",
      " 34  pl_bmassjlim     6334 non-null   float64\n",
      " 35  pl_bmassprov     6335 non-null   object \n",
      " 36  pl_orbeccen      18370 non-null  float64\n",
      " 37  pl_orbeccenerr1  3507 non-null   float64\n",
      " 38  pl_orbeccenerr2  3506 non-null   float64\n",
      " 39  pl_orbeccenlim   21112 non-null  float64\n",
      " 40  pl_insol         16732 non-null  float64\n",
      " 41  pl_insolerr1     15553 non-null  float64\n",
      " 42  pl_insolerr2     15553 non-null  float64\n",
      " 43  pl_insollim      21788 non-null  float64\n",
      " 44  pl_eqt           16681 non-null  float64\n",
      " 45  pl_eqterr1       2195 non-null   float64\n",
      " 46  pl_eqterr2       2195 non-null   float64\n",
      " 47  pl_eqtlim        19422 non-null  float64\n",
      " 48  ttv_flag         38095 non-null  int64  \n",
      " 49  st_refname       37745 non-null  object \n",
      " 50  st_spectype      2677 non-null   object \n",
      " 51  st_teff          35101 non-null  float64\n",
      " 52  st_tefferr1      34344 non-null  float64\n",
      " 53  st_tefferr2      34037 non-null  float64\n",
      " 54  st_tefflim       35101 non-null  float64\n",
      " 55  st_rad           35145 non-null  float64\n",
      " 56  st_raderr1       29615 non-null  float64\n",
      " 57  st_raderr2       29430 non-null  float64\n",
      " 58  st_radlim        35145 non-null  float64\n",
      " 59  st_mass          32327 non-null  float64\n",
      " 60  st_masserr1      26913 non-null  float64\n",
      " 61  st_masserr2      26718 non-null  float64\n",
      " 62  st_masslim       32334 non-null  float64\n",
      " 63  st_met           24298 non-null  float64\n",
      " 64  st_meterr1       23627 non-null  float64\n",
      " 65  st_meterr2       23627 non-null  float64\n",
      " 66  st_metlim        26609 non-null  float64\n",
      " 67  st_metratio      24101 non-null  object \n",
      " 68  st_logg          29808 non-null  float64\n",
      " 69  st_loggerr1      24526 non-null  float64\n",
      " 70  st_loggerr2      24525 non-null  float64\n",
      " 71  st_logglim       29808 non-null  float64\n",
      " 72  sy_refname       38095 non-null  object \n",
      " 73  rastr            38095 non-null  object \n",
      " 74  ra               38095 non-null  float64\n",
      " 75  decstr           38095 non-null  object \n",
      " 76  dec              38095 non-null  float64\n",
      " 77  sy_dist          37260 non-null  float64\n",
      " 78  sy_disterr1      36409 non-null  float64\n",
      " 79  sy_disterr2      36409 non-null  float64\n",
      " 80  sy_vmag          37367 non-null  float64\n",
      " 81  sy_vmagerr1      37354 non-null  float64\n",
      " 82  sy_vmagerr2      37353 non-null  float64\n",
      " 83  sy_kmag          37355 non-null  float64\n",
      " 84  sy_kmagerr1      37115 non-null  float64\n",
      " 85  sy_kmagerr2      37115 non-null  float64\n",
      " 86  sy_gaiamag       37065 non-null  float64\n",
      " 87  sy_gaiamagerr1   37065 non-null  float64\n",
      " 88  sy_gaiamagerr2   37065 non-null  float64\n",
      " 89  rowupdate        38094 non-null  object \n",
      " 90  pl_pubdate       38095 non-null  object \n",
      " 91  releasedate      38095 non-null  object \n",
      "dtypes: float64(70), int64(6), object(16)\n",
      "memory usage: 26.7+ MB\n"
     ]
    }
   ],
   "source": [
    "df.info()"
   ]
  },
  {
   "cell_type": "code",
   "execution_count": 5,
   "id": "f03b0b68",
   "metadata": {},
   "outputs": [],
   "source": [
    "df[\"habitable\"] = df[\"spl_eqt\"].apply(lambda x: 1 if 223 <= x <= 343 else 0)"
   ]
  },
  {
   "cell_type": "code",
   "execution_count": 16,
   "id": "4695b910",
   "metadata": {},
   "outputs": [],
   "source": [
    "df = df[[\"pl_eqt\", \"pl_insol\", \"pl_orbsmax\", \"st_teff\", \"st_rad\", \"st_mass\", \"pl_orbeccen\", \"habitable\"]]"
   ]
  },
  {
   "cell_type": "code",
   "execution_count": 17,
   "id": "a9bedc17",
   "metadata": {},
   "outputs": [
    {
     "data": {
      "text/plain": [
       "Index(['pl_eqt', 'pl_insol', 'pl_orbsmax', 'st_teff', 'st_rad', 'st_mass',\n",
       "       'pl_orbeccen', 'habitable'],\n",
       "      dtype='object')"
      ]
     },
     "execution_count": 17,
     "metadata": {},
     "output_type": "execute_result"
    }
   ],
   "source": [
    "df.columns"
   ]
  },
  {
   "cell_type": "code",
   "execution_count": 18,
   "id": "8bec510e",
   "metadata": {},
   "outputs": [
    {
     "data": {
      "text/plain": [
       "pl_eqt         56.212101\n",
       "pl_insol       56.078225\n",
       "pl_orbsmax     43.459772\n",
       "st_teff         7.859299\n",
       "st_rad          7.743798\n",
       "st_mass        15.141095\n",
       "pl_orbeccen    51.778449\n",
       "habitable       0.000000\n",
       "dtype: float64"
      ]
     },
     "execution_count": 18,
     "metadata": {},
     "output_type": "execute_result"
    }
   ],
   "source": [
    "(df.isnull().sum()/len(df))*100"
   ]
  },
  {
   "cell_type": "code",
   "execution_count": 19,
   "id": "500b0a76",
   "metadata": {},
   "outputs": [],
   "source": [
    "df.drop(columns=[\"pl_eqt\", \"pl_insol\", \"pl_orbeccen\"], inplace=True)\n",
    "df[\"pl_orbsmax\"].fillna(df[\"pl_orbsmax\"].median(), inplace=True)\n",
    "df[\"st_teff\"].fillna(df[\"st_teff\"].median(), inplace=True)\n",
    "df[\"st_rad\"].fillna(df[\"st_rad\"].median(), inplace=True)\n",
    "df[\"st_mass\"].fillna(df[\"st_mass\"].median(), inplace=True)\n"
   ]
  },
  {
   "cell_type": "code",
   "execution_count": 21,
   "id": "4aea81d4",
   "metadata": {},
   "outputs": [
    {
     "data": {
      "text/html": [
       "<div>\n",
       "<style scoped>\n",
       "    .dataframe tbody tr th:only-of-type {\n",
       "        vertical-align: middle;\n",
       "    }\n",
       "\n",
       "    .dataframe tbody tr th {\n",
       "        vertical-align: top;\n",
       "    }\n",
       "\n",
       "    .dataframe thead th {\n",
       "        text-align: right;\n",
       "    }\n",
       "</style>\n",
       "<table border=\"1\" class=\"dataframe\">\n",
       "  <thead>\n",
       "    <tr style=\"text-align: right;\">\n",
       "      <th></th>\n",
       "      <th>pl_orbsmax</th>\n",
       "      <th>st_teff</th>\n",
       "      <th>st_rad</th>\n",
       "      <th>st_mass</th>\n",
       "      <th>habitable</th>\n",
       "    </tr>\n",
       "  </thead>\n",
       "  <tbody>\n",
       "    <tr>\n",
       "      <th>count</th>\n",
       "      <td>38095.000000</td>\n",
       "      <td>38095.000000</td>\n",
       "      <td>38095.000000</td>\n",
       "      <td>38095.000000</td>\n",
       "      <td>38095.000000</td>\n",
       "    </tr>\n",
       "    <tr>\n",
       "      <th>mean</th>\n",
       "      <td>2.686847</td>\n",
       "      <td>5478.291838</td>\n",
       "      <td>1.137135</td>\n",
       "      <td>0.947640</td>\n",
       "      <td>0.018795</td>\n",
       "    </tr>\n",
       "    <tr>\n",
       "      <th>std</th>\n",
       "      <td>137.294366</td>\n",
       "      <td>952.054163</td>\n",
       "      <td>1.722819</td>\n",
       "      <td>0.299902</td>\n",
       "      <td>0.135803</td>\n",
       "    </tr>\n",
       "    <tr>\n",
       "      <th>min</th>\n",
       "      <td>0.004400</td>\n",
       "      <td>415.000000</td>\n",
       "      <td>0.010000</td>\n",
       "      <td>0.000000</td>\n",
       "      <td>0.000000</td>\n",
       "    </tr>\n",
       "    <tr>\n",
       "      <th>25%</th>\n",
       "      <td>0.087000</td>\n",
       "      <td>5162.790000</td>\n",
       "      <td>0.800000</td>\n",
       "      <td>0.840000</td>\n",
       "      <td>0.000000</td>\n",
       "    </tr>\n",
       "    <tr>\n",
       "      <th>50%</th>\n",
       "      <td>0.100500</td>\n",
       "      <td>5614.000000</td>\n",
       "      <td>0.950000</td>\n",
       "      <td>0.960000</td>\n",
       "      <td>0.000000</td>\n",
       "    </tr>\n",
       "    <tr>\n",
       "      <th>75%</th>\n",
       "      <td>0.115000</td>\n",
       "      <td>5919.000000</td>\n",
       "      <td>1.180000</td>\n",
       "      <td>1.050000</td>\n",
       "      <td>0.000000</td>\n",
       "    </tr>\n",
       "    <tr>\n",
       "      <th>max</th>\n",
       "      <td>19000.000000</td>\n",
       "      <td>57000.000000</td>\n",
       "      <td>88.470000</td>\n",
       "      <td>23.560000</td>\n",
       "      <td>1.000000</td>\n",
       "    </tr>\n",
       "  </tbody>\n",
       "</table>\n",
       "</div>"
      ],
      "text/plain": [
       "         pl_orbsmax       st_teff        st_rad       st_mass     habitable\n",
       "count  38095.000000  38095.000000  38095.000000  38095.000000  38095.000000\n",
       "mean       2.686847   5478.291838      1.137135      0.947640      0.018795\n",
       "std      137.294366    952.054163      1.722819      0.299902      0.135803\n",
       "min        0.004400    415.000000      0.010000      0.000000      0.000000\n",
       "25%        0.087000   5162.790000      0.800000      0.840000      0.000000\n",
       "50%        0.100500   5614.000000      0.950000      0.960000      0.000000\n",
       "75%        0.115000   5919.000000      1.180000      1.050000      0.000000\n",
       "max    19000.000000  57000.000000     88.470000     23.560000      1.000000"
      ]
     },
     "execution_count": 21,
     "metadata": {},
     "output_type": "execute_result"
    }
   ],
   "source": [
    "df.describe()"
   ]
  },
  {
   "cell_type": "code",
   "execution_count": 22,
   "id": "47d7d64c",
   "metadata": {},
   "outputs": [],
   "source": [
    "def cap_outliers(df, column):\n",
    "    Q1 = df[column].quantile(0.25)\n",
    "    Q3 = df[column].quantile(0.75)\n",
    "    IQR = Q3 - Q1\n",
    "    lower_bound = Q1 - 1.5 * IQR\n",
    "    upper_bound = Q3 + 1.5 * IQR\n",
    "    df[column] = df[column].clip(lower=lower_bound, upper=upper_bound)\n",
    "    return df\n",
    "\n",
    "# Apply Winsorization (capping) to columns\n",
    "df = cap_outliers(df, \"pl_orbsmax\")\n",
    "df = cap_outliers(df, \"st_teff\")\n",
    "df = cap_outliers(df, \"st_rad\")\n",
    "df = cap_outliers(df, \"st_mass\")\n"
   ]
  },
  {
   "cell_type": "code",
   "execution_count": 23,
   "id": "d1aa3f42",
   "metadata": {},
   "outputs": [
    {
     "data": {
      "text/html": [
       "<div>\n",
       "<style scoped>\n",
       "    .dataframe tbody tr th:only-of-type {\n",
       "        vertical-align: middle;\n",
       "    }\n",
       "\n",
       "    .dataframe tbody tr th {\n",
       "        vertical-align: top;\n",
       "    }\n",
       "\n",
       "    .dataframe thead th {\n",
       "        text-align: right;\n",
       "    }\n",
       "</style>\n",
       "<table border=\"1\" class=\"dataframe\">\n",
       "  <thead>\n",
       "    <tr style=\"text-align: right;\">\n",
       "      <th></th>\n",
       "      <th>pl_orbsmax</th>\n",
       "      <th>st_teff</th>\n",
       "      <th>st_rad</th>\n",
       "      <th>st_mass</th>\n",
       "      <th>habitable</th>\n",
       "    </tr>\n",
       "  </thead>\n",
       "  <tbody>\n",
       "    <tr>\n",
       "      <th>0</th>\n",
       "      <td>1.585781</td>\n",
       "      <td>-1.156381</td>\n",
       "      <td>2.202419</td>\n",
       "      <td>2.176963</td>\n",
       "      <td>0</td>\n",
       "    </tr>\n",
       "    <tr>\n",
       "      <th>1</th>\n",
       "      <td>1.585781</td>\n",
       "      <td>0.196384</td>\n",
       "      <td>-0.192530</td>\n",
       "      <td>2.176963</td>\n",
       "      <td>0</td>\n",
       "    </tr>\n",
       "    <tr>\n",
       "      <th>2</th>\n",
       "      <td>1.585781</td>\n",
       "      <td>-0.951604</td>\n",
       "      <td>2.202419</td>\n",
       "      <td>2.176963</td>\n",
       "      <td>0</td>\n",
       "    </tr>\n",
       "    <tr>\n",
       "      <th>3</th>\n",
       "      <td>1.585781</td>\n",
       "      <td>-1.977037</td>\n",
       "      <td>2.202419</td>\n",
       "      <td>2.176963</td>\n",
       "      <td>0</td>\n",
       "    </tr>\n",
       "    <tr>\n",
       "      <th>4</th>\n",
       "      <td>1.585781</td>\n",
       "      <td>-1.780017</td>\n",
       "      <td>2.202419</td>\n",
       "      <td>2.176963</td>\n",
       "      <td>0</td>\n",
       "    </tr>\n",
       "  </tbody>\n",
       "</table>\n",
       "</div>"
      ],
      "text/plain": [
       "   pl_orbsmax   st_teff    st_rad   st_mass  habitable\n",
       "0    1.585781 -1.156381  2.202419  2.176963          0\n",
       "1    1.585781  0.196384 -0.192530  2.176963          0\n",
       "2    1.585781 -0.951604  2.202419  2.176963          0\n",
       "3    1.585781 -1.977037  2.202419  2.176963          0\n",
       "4    1.585781 -1.780017  2.202419  2.176963          0"
      ]
     },
     "execution_count": 23,
     "metadata": {},
     "output_type": "execute_result"
    }
   ],
   "source": [
    "from sklearn.preprocessing import StandardScaler\n",
    "\n",
    "scaler = StandardScaler()\n",
    "scaled_df = df.copy()\n",
    "\n",
    "# Apply StandardScaler to the relevant columns\n",
    "scaled_df[[\"pl_orbsmax\", \"st_teff\", \"st_rad\", \"st_mass\"]] = scaler.fit_transform(df[[\"pl_orbsmax\", \"st_teff\", \"st_rad\", \"st_mass\"]])\n",
    "\n",
    "# Check the scaled data\n",
    "scaled_df.head()\n"
   ]
  },
  {
   "cell_type": "code",
   "execution_count": 24,
   "id": "0c5b90a8",
   "metadata": {},
   "outputs": [],
   "source": [
    "X = df[[\"pl_orbsmax\", \"st_teff\", \"st_rad\", \"st_mass\"]]\n",
    "y = df[\"habitable\"]\n",
    "X_train, X_test, y_train, y_test = train_test_split(X_scaled, y, test_size=0.2, random_state=42)"
   ]
  },
  {
   "cell_type": "code",
   "execution_count": 30,
   "id": "75116040",
   "metadata": {},
   "outputs": [
    {
     "name": "stdout",
     "output_type": "stream",
     "text": [
      "New Class Distribution: Counter({0: 29921, 1: 5984})\n"
     ]
    }
   ],
   "source": [
    "from imblearn.over_sampling import SMOTE\n",
    "\n",
    "# Define SMOTE\n",
    "smote = SMOTE(sampling_strategy=0.2, random_state=42)  # Increase habitable planets to 20% of total\n",
    "\n",
    "# Apply SMOTE\n",
    "X_resampled, y_resampled = smote.fit_resample(X_train, y_train)\n",
    "\n",
    "# Check new class distribution\n",
    "from collections import Counter\n",
    "print(\"New Class Distribution:\", Counter(y_resampled))\n"
   ]
  },
  {
   "cell_type": "code",
   "execution_count": 31,
   "id": "825c34cf",
   "metadata": {},
   "outputs": [
    {
     "name": "stdout",
     "output_type": "stream",
     "text": [
      "Model Accuracy: 1.00\n",
      "📊 Random Forest Classification Report:\n",
      "              precision    recall  f1-score   support\n",
      "\n",
      "           0       1.00      1.00      1.00      7458\n",
      "           1       1.00      1.00      1.00       161\n",
      "\n",
      "    accuracy                           1.00      7619\n",
      "   macro avg       1.00      1.00      1.00      7619\n",
      "weighted avg       1.00      1.00      1.00      7619\n",
      "\n"
     ]
    }
   ],
   "source": [
    "from sklearn.ensemble import RandomForestClassifier\n",
    "from sklearn.metrics import accuracy_score\n",
    "\n",
    "# Train model\n",
    "model = RandomForestClassifier(n_estimators=100, random_state=42)\n",
    "model.fit(X_resampled, y_resampled)\n",
    "\n",
    "# Predictions\n",
    "y_pred = model.predict(X_test)\n",
    "\n",
    "# Evaluate\n",
    "accuracy = accuracy_score(y_test, y_pred)\n",
    "print(f\"Model Accuracy: {accuracy:.2f}\")\n",
    "from sklearn.metrics import classification_report\n",
    "\n",
    "# Classification Report for Random Forest\n",
    "print(\"📊 Random Forest Classification Report:\")\n",
    "print(classification_report(y_test, y_pred))"
   ]
  },
  {
   "cell_type": "code",
   "execution_count": 32,
   "id": "64784227",
   "metadata": {},
   "outputs": [
    {
     "name": "stdout",
     "output_type": "stream",
     "text": [
      "              precision    recall  f1-score   support\n",
      "\n",
      "           0       1.00      0.98      0.99      7458\n",
      "           1       0.50      1.00      0.67       161\n",
      "\n",
      "    accuracy                           0.98      7619\n",
      "   macro avg       0.75      0.99      0.83      7619\n",
      "weighted avg       0.99      0.98      0.98      7619\n",
      "\n"
     ]
    }
   ],
   "source": [
    "lg.fit(X_resampled, y_resampled)\n",
    "y_pred = lg.predict(X_test)\n",
    "print(classification_report(y_test, y_pred))"
   ]
  },
  {
   "cell_type": "code",
   "execution_count": 34,
   "id": "0ad1d7db",
   "metadata": {},
   "outputs": [
    {
     "name": "stdout",
     "output_type": "stream",
     "text": [
      "              precision    recall  f1-score   support\n",
      "\n",
      "           0       1.00      1.00      1.00      7458\n",
      "           1       1.00      1.00      1.00       161\n",
      "\n",
      "    accuracy                           1.00      7619\n",
      "   macro avg       1.00      1.00      1.00      7619\n",
      "weighted avg       1.00      1.00      1.00      7619\n",
      "\n"
     ]
    }
   ],
   "source": [
    "best_rf = RandomForestClassifier(class_weight=\"balanced\", random_state=42)\n",
    "best_rf.fit(X_resampled, y_resampled)\n",
    "y_pred_rf = best_rf.predict(X_test)\n",
    "print(classification_report(y_test, y_pred_rf))"
   ]
  },
  {
   "cell_type": "code",
   "execution_count": null,
   "id": "33c7a86c",
   "metadata": {},
   "outputs": [],
   "source": []
  },
  {
   "cell_type": "code",
   "execution_count": null,
   "id": "815f66ff",
   "metadata": {},
   "outputs": [],
   "source": []
  },
  {
   "cell_type": "code",
   "execution_count": null,
   "id": "3d54f846",
   "metadata": {},
   "outputs": [],
   "source": []
  },
  {
   "cell_type": "code",
   "execution_count": null,
   "id": "003da35e",
   "metadata": {},
   "outputs": [],
   "source": []
  },
  {
   "cell_type": "code",
   "execution_count": null,
   "id": "4b5b760e",
   "metadata": {},
   "outputs": [],
   "source": []
  },
  {
   "cell_type": "code",
   "execution_count": 6,
   "id": "af0f42f5",
   "metadata": {},
   "outputs": [],
   "source": [
    "from sklearn.model_selection import train_test_split\n",
    "from sklearn.preprocessing import MinMaxScaler\n",
    "\n",
    "# Selecting only important features\n",
    "features = [\"pl_eqt\", \"pl_insol\", \"pl_orbsmax\", \"st_teff\", \"st_rad\", \"st_mass\", \"pl_orbeccen\"]\n",
    "X = df[features]\n",
    "y = df[\"habitable\"]\n",
    "\n",
    "# Handle missing values\n",
    "X = X.fillna(X.median())\n",
    "\n",
    "# Normalize data\n",
    "scaler = MinMaxScaler()\n",
    "X_scaled = scaler.fit_transform(X)\n",
    "\n",
    "# Train-test split\n",
    "X_train, X_test, y_train, y_test = train_test_split(X_scaled, y, test_size=0.2, random_state=42)\n"
   ]
  },
  {
   "cell_type": "code",
   "execution_count": 7,
   "id": "fab59e7d",
   "metadata": {},
   "outputs": [
    {
     "name": "stdout",
     "output_type": "stream",
     "text": [
      "Model Accuracy: 1.00\n",
      "📊 Random Forest Classification Report:\n",
      "              precision    recall  f1-score   support\n",
      "\n",
      "           0       1.00      1.00      1.00      7458\n",
      "           1       1.00      1.00      1.00       161\n",
      "\n",
      "    accuracy                           1.00      7619\n",
      "   macro avg       1.00      1.00      1.00      7619\n",
      "weighted avg       1.00      1.00      1.00      7619\n",
      "\n"
     ]
    }
   ],
   "source": [
    "from sklearn.ensemble import RandomForestClassifier\n",
    "from sklearn.metrics import accuracy_score\n",
    "\n",
    "# Train model\n",
    "model = RandomForestClassifier(n_estimators=100, random_state=42)\n",
    "model.fit(X_train, y_train)\n",
    "\n",
    "# Predictions\n",
    "y_pred = model.predict(X_test)\n",
    "\n",
    "# Evaluate\n",
    "accuracy = accuracy_score(y_test, y_pred)\n",
    "print(f\"Model Accuracy: {accuracy:.2f}\")\n",
    "from sklearn.metrics import classification_report\n",
    "\n",
    "# Classification Report for Random Forest\n",
    "print(\"📊 Random Forest Classification Report:\")\n",
    "print(classification_report(y_test, y_pred))"
   ]
  },
  {
   "cell_type": "code",
   "execution_count": 8,
   "id": "774394ff",
   "metadata": {},
   "outputs": [
    {
     "data": {
      "image/png": "[encoded data removed]",
      "text/plain": [
       "<Figure size 576x360 with 1 Axes>"
      ]
     },
     "metadata": {
      "needs_background": "light"
     },
     "output_type": "display_data"
    }
   ],
   "source": [
    "import matplotlib.pyplot as plt\n",
    "import seaborn as sns\n",
    "\n",
    "# Get feature importance from the Random Forest model\n",
    "importances = model.feature_importances_\n",
    "feature_names = [\"pl_eqt\", \"pl_insol\", \"pl_orbsmax\", \"st_teff\", \"st_rad\", \"st_mass\", \"pl_orbeccen\"]\n",
    "\n",
    "# Plot\n",
    "plt.figure(figsize=(8,5))\n",
    "sns.barplot(x=importances, y=feature_names)\n",
    "plt.xlabel(\"Feature Importance Score\")\n",
    "plt.title(\"Feature Importance for Habitability Prediction\")\n",
    "plt.show()\n"
   ]
  },
  {
   "cell_type": "code",
   "execution_count": 9,
   "id": "952555ea",
   "metadata": {},
   "outputs": [
    {
     "data": {
      "text/plain": [
       "0    37379\n",
       "1      716\n",
       "Name: habitable, dtype: int64"
      ]
     },
     "execution_count": 9,
     "metadata": {},
     "output_type": "execute_result"
    }
   ],
   "source": [
    "df[\"habitable\"].value_counts()"
   ]
  },
  {
   "cell_type": "code",
   "execution_count": 10,
   "id": "a3bb2049",
   "metadata": {},
   "outputs": [],
   "source": [
    "# from imblearn.over_sampling import SMOTE\n",
    "\n",
    "# # Define SMOTE\n",
    "# smote = SMOTE(sampling_strategy=0.2, random_state=42)  # Increase habitable planets to 20% of total\n",
    "\n",
    "# # Apply SMOTE\n",
    "# X_resampled, y_resampled = smote.fit_resample(X, y)\n",
    "\n",
    "# # Check new class distribution\n",
    "# from collections import Counter\n",
    "# print(\"New Class Distribution:\", Counter(y_resampled))\n"
   ]
  },
  {
   "cell_type": "code",
   "execution_count": 11,
   "id": "8ba39378",
   "metadata": {},
   "outputs": [
    {
     "name": "stdout",
     "output_type": "stream",
     "text": [
      "              precision    recall  f1-score   support\n",
      "\n",
      "           0       1.00      1.00      1.00      7458\n",
      "           1       1.00      1.00      1.00       161\n",
      "\n",
      "    accuracy                           1.00      7619\n",
      "   macro avg       1.00      1.00      1.00      7619\n",
      "weighted avg       1.00      1.00      1.00      7619\n",
      "\n"
     ]
    }
   ],
   "source": [
    "best_rf = RandomForestClassifier(class_weight=\"balanced\", random_state=42)\n",
    "best_rf.fit(X_train, y_train)\n",
    "y_pred_rf = best_rf.predict(X_test)\n",
    "print(classification_report(y_test, y_pred_rf))"
   ]
  },
  {
   "cell_type": "code",
   "execution_count": 12,
   "id": "ed426d26",
   "metadata": {},
   "outputs": [],
   "source": [
    "from sklearn.linear_model import LogisticRegression"
   ]
  },
  {
   "cell_type": "code",
   "execution_count": 13,
   "id": "ffafe5e4",
   "metadata": {},
   "outputs": [],
   "source": [
    "lg = LogisticRegression()"
   ]
  },
  {
   "cell_type": "code",
   "execution_count": null,
   "id": "8cb1ab52",
   "metadata": {},
   "outputs": [],
   "source": []
  }
 ],
 "metadata": {
  "kernelspec": {
   "display_name": "Python 3 (ipykernel)",
   "language": "python",
   "name": "python3"
  },
  "language_info": {
   "codemirror_mode": {
    "name": "ipython",
    "version": 3
   },
   "file_extension": ".py",
   "mimetype": "text/x-python",
   "name": "python",
   "nbconvert_exporter": "python",
   "pygments_lexer": "ipython3",
   "version": "3.9.12"
  }
 },
 "nbformat": 4,
 "nbformat_minor": 5
}
